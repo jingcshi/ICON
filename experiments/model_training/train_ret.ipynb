{
 "cells": [
  {
   "cell_type": "code",
   "execution_count": 1,
   "metadata": {},
   "outputs": [
    {
     "data": {
      "text/plain": [
       "<torch._C.Generator at 0x7f6140527cb0>"
      ]
     },
     "execution_count": 1,
     "metadata": {},
     "output_type": "execute_result"
    }
   ],
   "source": [
    "import os\n",
    "import sys\n",
    "sys.path.append(os.getcwd() + '/..')\n",
    "import torch\n",
    "import pandas as pd\n",
    "import numpy as np\n",
    "import re\n",
    "from datetime import datetime\n",
    "from info_nce import InfoNCE\n",
    "from ellement.transformers import AutoModel, AutoTokenizer, get_scheduler\n",
    "from tqdm.notebook import tqdm as tqdm\n",
    "from datasets import Dataset\n",
    "from torch.utils.data import DataLoader\n",
    "from torch.optim import AdamW\n",
    "\n",
    "train_path = './../../data/ret/ebay-train.tsv'\n",
    "eval_path = './../../data/ret/ebay-test.tsv'\n",
    "model_path = 'mms://core-ai-nlp/vector-prime'\n",
    "\n",
    "device = 'cuda' if torch.cuda.is_available() else 'cpu'\n",
    "NUM_EPOCHS = 3\n",
    "LR = 1e-5\n",
    "BATCH_SIZE = 1\n",
    "MODEL_MAX_LENGTH = 512\n",
    "loss_temperature = 0.05\n",
    "reSplitTokenset = re.compile(r'\\'((?:\\w+, )*\\w+)\\'(?:,|$)')\n",
    "reSplitLabel = re.compile(r'[\\'\\\"](.*?)[\\'\\\"](?:,|$)')\n",
    "train_data = pd.read_csv(train_path,sep='\\t')\n",
    "eval_data = pd.read_csv(eval_path,sep='\\t')\n",
    "train_data['negatives_label'] = train_data['negatives_label'].apply(lambda row: re.findall(reSplitLabel,row[1:-1]))\n",
    "eval_data['negatives_label'] = eval_data['negatives_label'].apply(lambda row: re.findall(reSplitLabel,row[1:-1]))\n",
    "np.random.seed(114514)\n",
    "torch.manual_seed(114514)"
   ]
  },
  {
   "cell_type": "markdown",
   "metadata": {},
   "source": []
  },
  {
   "cell_type": "code",
   "execution_count": 2,
   "metadata": {},
   "outputs": [],
   "source": [
    "def count_parameters(model):\n",
    "    return sum(p.numel() for p in model.parameters() if p.requires_grad)\n",
    "\n",
    "def load_model(checkpoint):\n",
    "    tokenizer = AutoTokenizer.from_pretrained(checkpoint, model_max_length = MODEL_MAX_LENGTH)\n",
    "    model = AutoModel.from_pretrained(checkpoint).to(device)\n",
    "    print(f'The model has {count_parameters(model)} trainable parameters')\n",
    "    return model, tokenizer"
   ]
  },
  {
   "cell_type": "code",
   "execution_count": 3,
   "metadata": {},
   "outputs": [
    {
     "name": "stderr",
     "output_type": "stream",
     "text": [
      "2024-04-26 17:35:37,550 - pykrylov.util.config [MainThread  ] [WARNI]  Add MMS_V1 entry to config clusters; No action needed on users' side\n",
      "2024-04-26 17:35:37,551 - pykrylov.util.config [MainThread  ] [WARNI]  Update MMS_V1 Server to https://krylov-mms.vip.ebay.com and ProxyServer to c2sproxy;No action needed on users' side\n"
     ]
    },
    {
     "name": "stdout",
     "output_type": "stream",
     "text": [
      "The model has 1006700544 trainable parameters\n"
     ]
    }
   ],
   "source": [
    "model, tokenizer = load_model(model_path)\n",
    "model_name = model_path.split('/')[-2]\n",
    "model_type = str(type(model)).split('.')[-1][:-2]"
   ]
  },
  {
   "cell_type": "code",
   "execution_count": null,
   "metadata": {},
   "outputs": [],
   "source": [
    "def tokenize(examples):\n",
    "    textinput = [examples['query_label']] + [examples['positive_label']] + examples['negatives_label']\n",
    "    return tokenizer(textinput, padding=True, truncation=False)\n"
   ]
  },
  {
   "cell_type": "code",
   "execution_count": null,
   "metadata": {},
   "outputs": [],
   "source": [
    "def train_and_eval(model, train_iterator, eval_iterator, lossfunc, num_epochs, optimizer, lr_scheduler):\n",
    "    loss_history = pd.DataFrame({'Epoch':[],'Training loss':[],'Evaluation loss':[]}).set_index('Epoch')\n",
    "    n_train = len(train_iterator)\n",
    "    n_eval = len(eval_iterator)\n",
    "    embed_dim = model.embed_tokens.embedding_dim\n",
    "    with tqdm(total = num_epochs, position = 0, desc = 'Epoch') as outer:\n",
    "        with tqdm(total = n_train, position = 1, leave = False, desc = 'Training') as inner1:\n",
    "            with tqdm(total = n_eval, position = 2, leave = False, desc = 'Evaluating') as inner2:\n",
    "                for e in range(num_epochs):\n",
    "                    l_train = 0\n",
    "                    model.train()\n",
    "                    for batch in train_iterator:\n",
    "                        batch_size = batch['input_ids'].shape[0]\n",
    "                        seq_len = batch['input_ids'].shape[2]\n",
    "                        batch = {k:v.reshape((1,-1,seq_len)).squeeze() for k,v in batch.items()}\n",
    "                        outputs = model(**batch).last_hidden_state.reshape((batch_size,-1,embed_dim))\n",
    "                        query_embed = outputs[:,0,:]\n",
    "                        pos_embed = outputs[:,1,:]\n",
    "                        neg_embeds = outputs[:,2:,:]\n",
    "                        loss = lossfunc(query_embed,pos_embed,neg_embeds)\n",
    "                        loss.backward()\n",
    "                        optimizer.step()\n",
    "                        lr_scheduler.step()\n",
    "                        optimizer.zero_grad()\n",
    "                        l_train += loss.detach().item()\n",
    "                        inner1.update(1)\n",
    "                    l_eval = 0\n",
    "                    model.eval()\n",
    "                    for batch in eval_iterator:\n",
    "                        batch_size = batch['input_ids'].shape[0]\n",
    "                        seq_len = batch['input_ids'].shape[2]\n",
    "                        batch = {k:v.reshape((1,-1,seq_len)).squeeze() for k,v in batch.items()}\n",
    "                        with torch.no_grad():\n",
    "                            outputs = model(**batch).last_hidden_state.reshape((batch_size,-1,embed_dim))\n",
    "                        query_embed = outputs[:,0,:]\n",
    "                        pos_embed = outputs[:,1,:]\n",
    "                        neg_embeds = outputs[:,2:,:]\n",
    "                        loss = lossfunc(query_embed,pos_embed,neg_embeds)\n",
    "                        l_eval += loss.detach().item()\n",
    "                        inner2.update(1)\n",
    "                    inner1.reset()\n",
    "                    inner2.reset()\n",
    "                    loss_history.loc[e+1] = {'Training loss':l_train / n_train, 'Evaluation loss':l_eval / n_eval}\n",
    "                    display(loss_history)\n",
    "                    outer.update(1)\n",
    "    return loss_history"
   ]
  },
  {
   "cell_type": "code",
   "execution_count": null,
   "metadata": {
    "tags": []
   },
   "outputs": [],
   "source": [
    "train_dataset = Dataset.from_pandas(train_data).map(lambda row: tokenize(row))\n",
    "eval_dataset = Dataset.from_pandas(eval_data).map(lambda row: tokenize(row))\n",
    "train_dataset.set_format(type=\"torch\", columns=([\"input_ids\", \"token_type_ids\", \"attention_mask\"] if (model_type in ['BertModel']) else [\"input_ids\", \"attention_mask\"]), device=device)\n",
    "eval_dataset.set_format(type=\"torch\", columns=([\"input_ids\", \"token_type_ids\", \"attention_mask\"] if (model_type in ['BertModel']) else [\"input_ids\", \"attention_mask\"]),device=device)"
   ]
  },
  {
   "cell_type": "code",
   "execution_count": null,
   "metadata": {
    "tags": []
   },
   "outputs": [],
   "source": [
    "train_loader = DataLoader(train_dataset,shuffle=False,batch_size=BATCH_SIZE)\n",
    "eval_loader = DataLoader(eval_dataset,shuffle=False,batch_size=BATCH_SIZE)\n",
    "optimizer = AdamW(model.parameters(), lr=LR)\n",
    "lr_scheduler = get_scheduler(name=\"linear\", optimizer=optimizer, num_warmup_steps=1000, num_training_steps=NUM_EPOCHS * len(train_loader))\n",
    "lossfunc = InfoNCE(negative_mode='paired',reduction='mean',temperature=loss_temperature)"
   ]
  },
  {
   "cell_type": "code",
   "execution_count": null,
   "metadata": {
    "tags": []
   },
   "outputs": [],
   "source": [
    "loss_history = train_and_eval(model, train_loader, eval_loader, lossfunc, NUM_EPOCHS, optimizer, lr_scheduler)\n",
    "now = datetime.now()\n",
    "timestr = now.strftime('%Y%m%d-%H%M')\n",
    "model.save_pretrained(f'/data/ebay-slc-a100/data/jingcshi/ICON_models/ret/{model_name}_{timestr}')\n",
    "tokenizer.save_pretrained(f'/data/ebay-slc-a100/data/jingcshi/ICON_models/ret/{model_name}_{timestr}')"
   ]
  },
  {
   "cell_type": "code",
   "execution_count": null,
   "metadata": {},
   "outputs": [],
   "source": [
    "tokenizer.batch_decode(train_dataset[1760]['input_ids'])"
   ]
  },
  {
   "cell_type": "code",
   "execution_count": 4,
   "metadata": {},
   "outputs": [
    {
     "data": {
      "text/plain": [
       "('/data/ebay-slc-a100/data/jingcshi/ICON_models/ret/vector-prime/tokenizer_config.json',\n",
       " '/data/ebay-slc-a100/data/jingcshi/ICON_models/ret/vector-prime/special_tokens_map.json',\n",
       " '/data/ebay-slc-a100/data/jingcshi/ICON_models/ret/vector-prime/tokenizer.json')"
      ]
     },
     "execution_count": 4,
     "metadata": {},
     "output_type": "execute_result"
    }
   ],
   "source": [
    "model.save_pretrained(f'/data/ebay-slc-a100/data/jingcshi/ICON_models/ret/vector-prime')\n",
    "tokenizer.save_pretrained(f'/data/ebay-slc-a100/data/jingcshi/ICON_models/ret/vector-prime')"
   ]
  }
 ],
 "metadata": {
  "kernelspec": {
   "display_name": "Python 3 (ipykernel)",
   "language": "python",
   "name": "python3"
  },
  "language_info": {
   "codemirror_mode": {
    "name": "ipython",
    "version": 3
   },
   "file_extension": ".py",
   "mimetype": "text/x-python",
   "name": "python",
   "nbconvert_exporter": "python",
   "pygments_lexer": "ipython3",
   "version": "3.8.19"
  }
 },
 "nbformat": 4,
 "nbformat_minor": 4
}
