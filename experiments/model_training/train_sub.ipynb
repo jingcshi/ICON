{
 "cells": [
  {
   "cell_type": "code",
   "execution_count": 1,
   "id": "371e4970-b607-49a2-af82-ccaa7a2fd9fe",
   "metadata": {},
   "outputs": [],
   "source": [
    "import os\n",
    "import sys\n",
    "sys.path.append(os.getcwd() + '/..')\n",
    "import torch\n",
    "import pandas as pd\n",
    "import numpy as np\n",
    "from datetime import datetime\n",
    "from ellement.transformers import AutoTokenizer, AutoModelForSequenceClassification, DataCollatorWithPadding, Trainer, TrainingArguments\n",
    "from datasets import Dataset\n",
    "import evaluate"
   ]
  },
  {
   "cell_type": "code",
   "execution_count": 2,
   "id": "aa7b7ce6-d23a-445e-9f01-a57c68f7b7ac",
   "metadata": {},
   "outputs": [],
   "source": [
    "train_data_path = './../../data/sub/ebay_us_nonleaf-20240523-1349-train.csv'\n",
    "test_data_path = './../../data/sub/ebay_us_nonleaf-20240523-1349-eval.csv'\n",
    "model_checkpoint = 'mms://core-ai-nlp/eBERT2-base-cased'\n",
    "model_name = model_checkpoint.split(\"/\")[-1]\n",
    "device = 'cuda' if torch.cuda.is_available() else 'cpu'\n",
    "\n",
    "train_batch_size = 16\n",
    "eval_batch_size = 16\n",
    "num_train_epochs = 4\n",
    "lr = 5e-5\n",
    "lr_schedule='linear'\n",
    "np.random.seed(114514)\n",
    "torch.manual_seed(114514)\n",
    "\n",
    "os.environ['TOKENIZERS_PARALLELISM'] = 'false'"
   ]
  },
  {
   "cell_type": "code",
   "execution_count": 3,
   "id": "acd9d6b5-3fd1-4a36-949e-7ba434e88792",
   "metadata": {},
   "outputs": [
    {
     "name": "stderr",
     "output_type": "stream",
     "text": [
      "Some weights of MegatronBertForSequenceClassification were not initialized from the model checkpoint at /data/ebay-slc-a100/data/jingcshi/.cache/ellement/core-ai-nlp/eBERT2-base-cased/1 and are newly initialized: ['bert.pooler.dense.bias', 'bert.pooler.dense.weight', 'classifier.bias', 'classifier.weight']\n",
      "You should probably TRAIN this model on a down-stream task to be able to use it for predictions and inference.\n"
     ]
    }
   ],
   "source": [
    "model = AutoModelForSequenceClassification.from_pretrained(model_checkpoint).to(device)\n",
    "tokenizer = AutoTokenizer.from_pretrained(model_checkpoint,model_max_length=72)\n",
    "data_collator = DataCollatorWithPadding(tokenizer,padding=True)\n",
    "precision_score = evaluate.load('precision')\n",
    "recall_score = evaluate.load('recall')\n",
    "f1_score = evaluate.load(\"f1\")\n",
    "acc_score = evaluate.load('accuracy')"
   ]
  },
  {
   "cell_type": "code",
   "execution_count": 4,
   "id": "ca8f8726-5c82-412a-9e12-e5d612ee5030",
   "metadata": {},
   "outputs": [],
   "source": [
    "def tokenize(examples,return_tensors=None):\n",
    "    return tokenizer(examples[\"Subclass\"],examples[\"Superclass\"],return_tensors=return_tensors)"
   ]
  },
  {
   "cell_type": "code",
   "execution_count": 5,
   "id": "0460d703-a242-4e6b-8d4a-12dc8c518275",
   "metadata": {},
   "outputs": [],
   "source": [
    "def compute_metrics(eval_pred):\n",
    "    logits, labels = eval_pred\n",
    "    predictions = np.argmax(logits, axis=-1)\n",
    "    acc = acc_score.compute(predictions=predictions, references=labels)\n",
    "    p = precision_score.compute(predictions=predictions, references=labels)\n",
    "    r = recall_score.compute(predictions=predictions, references=labels)\n",
    "    f1 = f1_score.compute(predictions=predictions, references=labels)\n",
    "    result = {**acc, **p, **r, **f1}\n",
    "    return {k: round(v, 6) for k, v in result.items()}"
   ]
  },
  {
   "cell_type": "code",
   "execution_count": 6,
   "id": "87c6ad37-c4cb-446f-8e50-8aaa6fcebdd1",
   "metadata": {},
   "outputs": [
    {
     "data": {
      "application/vnd.jupyter.widget-view+json": {
       "model_id": "48812788391d45c3bcb0308208c8a0b3",
       "version_major": 2,
       "version_minor": 0
      },
      "text/plain": [
       "Map:   0%|          | 0/12384 [00:00<?, ? examples/s]"
      ]
     },
     "metadata": {},
     "output_type": "display_data"
    },
    {
     "data": {
      "application/vnd.jupyter.widget-view+json": {
       "model_id": "13751a694db84b7884e56ff1c7a5b13a",
       "version_major": 2,
       "version_minor": 0
      },
      "text/plain": [
       "Map:   0%|          | 0/1377 [00:00<?, ? examples/s]"
      ]
     },
     "metadata": {},
     "output_type": "display_data"
    }
   ],
   "source": [
    "train_data = pd.read_csv(train_data_path)\n",
    "eval_data = pd.read_csv(test_data_path)\n",
    "train_dataset = Dataset.from_pandas(train_data)\n",
    "eval_dataset = Dataset.from_pandas(eval_data)\n",
    "train_dataset = train_dataset.map(tokenize, batched=True)\n",
    "eval_dataset = eval_dataset.map(tokenize, batched=True)\n",
    "train_dataset.set_format(type=\"torch\", columns=[\"input_ids\", \"attention_mask\",\"token_type_ids\",\"labels\"])\n",
    "eval_dataset.set_format(type=\"torch\", columns=[\"input_ids\", \"attention_mask\",\"token_type_ids\",\"labels\"])"
   ]
  },
  {
   "cell_type": "code",
   "execution_count": 7,
   "id": "32ceabf9-c6eb-4ba4-8482-43b507533c72",
   "metadata": {},
   "outputs": [],
   "source": [
    "now = datetime.now()\n",
    "timestr = now.strftime('%Y%m%d-%H%M')\n",
    "args = TrainingArguments(\n",
    "    output_dir=f\"/data/ebay-slc-a100/data/jingcshi/ICON_models/sub/ebert2-nonleaf-tuned\",\n",
    "    evaluation_strategy=\"epoch\",\n",
    "    learning_rate=lr,\n",
    "    lr_scheduler_type=lr_schedule,\n",
    "    per_device_train_batch_size=train_batch_size,\n",
    "    per_device_eval_batch_size=eval_batch_size,\n",
    "    weight_decay=0.01,\n",
    "    save_total_limit=5,\n",
    "    num_train_epochs=num_train_epochs,\n",
    "    logging_strategy='epoch',\n",
    "    save_strategy='epoch'\n",
    ")\n",
    "\n",
    "trainer = Trainer(\n",
    "    model,\n",
    "    args,\n",
    "    train_dataset=train_dataset,\n",
    "    eval_dataset=eval_dataset,\n",
    "    data_collator=data_collator,\n",
    "    tokenizer=tokenizer,\n",
    "    compute_metrics=compute_metrics\n",
    ")"
   ]
  },
  {
   "cell_type": "code",
   "execution_count": 8,
   "id": "d1c05dc2-d61f-4a2f-9a2e-e66dc6150eef",
   "metadata": {
    "tags": []
   },
   "outputs": [
    {
     "data": {
      "text/html": [
       "\n",
       "    <div>\n",
       "      \n",
       "      <progress value='3096' max='3096' style='width:300px; height:20px; vertical-align: middle;'></progress>\n",
       "      [3096/3096 02:02, Epoch 4/4]\n",
       "    </div>\n",
       "    <table border=\"1\" class=\"dataframe\">\n",
       "  <thead>\n",
       " <tr style=\"text-align: left;\">\n",
       "      <th>Epoch</th>\n",
       "      <th>Training Loss</th>\n",
       "      <th>Validation Loss</th>\n",
       "      <th>Accuracy</th>\n",
       "      <th>Precision</th>\n",
       "      <th>Recall</th>\n",
       "      <th>F1</th>\n",
       "    </tr>\n",
       "  </thead>\n",
       "  <tbody>\n",
       "    <tr>\n",
       "      <td>1</td>\n",
       "      <td>0.400800</td>\n",
       "      <td>0.206351</td>\n",
       "      <td>0.933188</td>\n",
       "      <td>0.869215</td>\n",
       "      <td>0.941176</td>\n",
       "      <td>0.903766</td>\n",
       "    </tr>\n",
       "    <tr>\n",
       "      <td>2</td>\n",
       "      <td>0.176200</td>\n",
       "      <td>0.192239</td>\n",
       "      <td>0.946260</td>\n",
       "      <td>0.881188</td>\n",
       "      <td>0.969499</td>\n",
       "      <td>0.923237</td>\n",
       "    </tr>\n",
       "    <tr>\n",
       "      <td>3</td>\n",
       "      <td>0.109500</td>\n",
       "      <td>0.191514</td>\n",
       "      <td>0.957879</td>\n",
       "      <td>0.913402</td>\n",
       "      <td>0.965142</td>\n",
       "      <td>0.938559</td>\n",
       "    </tr>\n",
       "    <tr>\n",
       "      <td>4</td>\n",
       "      <td>0.062000</td>\n",
       "      <td>0.187536</td>\n",
       "      <td>0.959332</td>\n",
       "      <td>0.910387</td>\n",
       "      <td>0.973856</td>\n",
       "      <td>0.941053</td>\n",
       "    </tr>\n",
       "  </tbody>\n",
       "</table><p>"
      ],
      "text/plain": [
       "<IPython.core.display.HTML object>"
      ]
     },
     "metadata": {},
     "output_type": "display_data"
    },
    {
     "data": {
      "text/plain": [
       "TrainOutput(global_step=3096, training_loss=0.18711510493157754, metrics={'train_runtime': 123.2375, 'train_samples_per_second': 401.956, 'train_steps_per_second': 25.122, 'total_flos': 520622778573120.0, 'train_loss': 0.18711510493157754, 'epoch': 4.0})"
      ]
     },
     "execution_count": 8,
     "metadata": {},
     "output_type": "execute_result"
    }
   ],
   "source": [
    "training_outputs = trainer.train()\n",
    "now = datetime.now()\n",
    "timestr = now.strftime('%Y%m%d-%H%M')\n",
    "training_outputs "
   ]
  },
  {
   "cell_type": "code",
   "execution_count": 10,
   "id": "5ba59333-9c39-4a5b-8a22-748ddf138b24",
   "metadata": {},
   "outputs": [
    {
     "data": {
      "text/plain": [
       "array([0.00558775, 0.99441224], dtype=float32)"
      ]
     },
     "execution_count": 10,
     "metadata": {},
     "output_type": "execute_result"
    }
   ],
   "source": [
    "example = {'Subclass':'Men\\'s Vintage T-Shirts', 'Superclass':'Men\\'s T-Shirts'}\n",
    "inputs = tokenize(example,return_tensors='pt').to(device)\n",
    "predictions = torch.softmax(model(**inputs).logits.detach().cpu().squeeze(),0).numpy()\n",
    "predictions"
   ]
  }
 ],
 "metadata": {
  "kernelspec": {
   "display_name": "Python 3 (ipykernel)",
   "language": "python",
   "name": "python3"
  },
  "language_info": {
   "codemirror_mode": {
    "name": "ipython",
    "version": 3
   },
   "file_extension": ".py",
   "mimetype": "text/x-python",
   "name": "python",
   "nbconvert_exporter": "python",
   "pygments_lexer": "ipython3",
   "version": "3.8.19"
  }
 },
 "nbformat": 4,
 "nbformat_minor": 5
}
