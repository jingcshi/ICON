{
 "cells": [
  {
   "cell_type": "code",
   "execution_count": null,
   "metadata": {},
   "outputs": [],
   "source": [
    "import os\n",
    "import sys\n",
    "sys.path.append(os.getcwd() + '/..')\n",
    "import torch\n",
    "import pandas as pd\n",
    "import numpy as np\n",
    "import matplotlib.pyplot as plt\n",
    "from simcse import SimCSE\n",
    "from tqdm.notebook import tqdm\n",
    "from sklearn.manifold import TSNE\n",
    "np.random.seed(114514)\n",
    "torch.manual_seed(114514)"
   ]
  },
  {
   "cell_type": "code",
   "execution_count": null,
   "metadata": {
    "tags": []
   },
   "outputs": [],
   "source": [
    "model_path = './../models/retrieval/entity_type_tuned_sota/'\n",
    "device = 'cuda' if torch.cuda.is_available() else 'cpu'\n",
    "model = SimCSE(model_path,device=device)"
   ]
  },
  {
   "cell_type": "code",
   "execution_count": null,
   "metadata": {},
   "outputs": [],
   "source": [
    "cat_data = pd.read_csv('./../data/raw/Cat_data.csv')\n",
    "mappings_data = pd.read_csv('./../data/raw/Aggregated_siblings_data.csv')\n",
    "neg = mappings_data[mappings_data['Parent Label'] == 'All products']\n",
    "mappings_data = mappings_data.drop(neg.index)\n",
    "large_index = mappings_data[mappings_data['Cluster size'] > 60].index\n",
    "small_index = mappings_data[mappings_data['Cluster size'] == 4].index[:60]\n",
    "classlabels = list(cat_data['Label'])\n",
    "embeddings = model.encode(classlabels)\n",
    "model.build_index(classlabels)\n",
    "knn = model.search(classlabels,threshold=0,top_k=int(mappings_data['Cluster size'].max()))"
   ]
  },
  {
   "cell_type": "code",
   "execution_count": null,
   "metadata": {},
   "outputs": [],
   "source": [
    "catid_dict = {}\n",
    "idx_dict = {}\n",
    "for i,row in cat_data.iterrows():\n",
    "    catid_dict[row['Cat ID']]=i\n",
    "    idx_dict[i]=row['Cat ID']\n",
    "def idx_to_catid(x):\n",
    "    return idx_dict[x]\n",
    "def catid_to_idx(cid):\n",
    "    return catid_dict[cid]"
   ]
  },
  {
   "cell_type": "code",
   "execution_count": null,
   "metadata": {
    "tags": []
   },
   "outputs": [],
   "source": [
    "def evaluate(model,class_data,mappings_data,precomputed_knn=None,weighted=False,weight='Linear',repeat:int=10):\n",
    "    if precomputed_knn:\n",
    "        knn = precomputed_knn\n",
    "    else:\n",
    "        print(\"Computing k-NN:\")\n",
    "        k = 1+4*mappings_data['Cluster size'].max()\n",
    "        classlabels = list(class_data['Label'])\n",
    "        model.build_index(classlabels)\n",
    "        knn = model.search(classlabels,threshold=0,top_k=int(k))\n",
    "    print(\"Evaluating metrics:\")\n",
    "    cluster_ids = mappings_data['Cluster ID'].unique()\n",
    "    M = len(cluster_ids)\n",
    "    pltdomain = np.arange(0.1,2.1,0.1)\n",
    "    hits = np.zeros([pltdomain.shape[0],M,repeat])\n",
    "    with tqdm(total = repeat, position = 0, desc = 'Repetition') as outer:\n",
    "        with tqdm(total = M, position = 1, leave = False, desc = 'Cluster') as inner:\n",
    "            for r in range(repeat):\n",
    "                inner.reset()\n",
    "                for j,c in enumerate(cluster_ids):\n",
    "                    cluster = mappings_data[mappings_data['Cluster ID'] == c]\n",
    "                    randclass = cluster.sample(n=1)['Cat ID'].iloc[0]\n",
    "                    ref_cluster_ids = mappings_data[mappings_data['Cat ID'] == randclass]['Cluster ID'].unique()\n",
    "                    reference = set(mappings_data[mappings_data['Cluster ID'].isin(ref_cluster_ids)]['Cat ID'])\n",
    "                    n = len(reference)\n",
    "                    predictions = [idx_to_catid(entry[0]) for entry in knn[catid_to_idx(randclass)]]\n",
    "                    for i,x in enumerate(pltdomain):\n",
    "                        sublist = predictions[:int(np.ceil(x*n))]\n",
    "                        hits[i][j][r] = len(set(sublist).intersection(reference)) / n\n",
    "                    inner.update(1)\n",
    "                outer.update(1)\n",
    "    recall = np.mean(hits,axis=(1,2))\n",
    "    err = 1.96*np.std(np.mean(hits,axis=1),axis=1)/np.sqrt(repeat)\n",
    "    print(f\"Hit @ N/2:{recall[4]:.4f}\\nHit @ N:{recall[9]:.4f}\\nHit @ 2N:{recall[19]:.4f}\\n\")\n",
    "    fig, ax = plt.subplots()\n",
    "    ax.errorbar(pltdomain, recall, yerr=err)\n",
    "    plt.xlabel(\"Sampling ratio\")\n",
    "    plt.ylabel(\"Recall\")\n",
    "    plt.show()\n",
    "    return hits"
   ]
  },
  {
   "cell_type": "code",
   "execution_count": null,
   "metadata": {},
   "outputs": [],
   "source": [
    "eval_details = evaluate(model,cat_data,mappings_data,precomputed_knn=knn)"
   ]
  },
  {
   "cell_type": "code",
   "execution_count": null,
   "metadata": {
    "tags": []
   },
   "outputs": [],
   "source": [
    "randseed = np.random.choice(len(classlabels),1).item()\n",
    "num_candidates = 15\n",
    "knn_results = [(idx_to_catid(entry[0]),entry[1],entry[2]) for entry in knn[randseed][:num_candidates+1]]\n",
    "ref_clusters = mappings_data[mappings_data['Cat ID'] == idx_to_catid(randseed)]['Cluster ID'].unique()\n",
    "reference = mappings_data[mappings_data['Cluster ID'].isin(ref_clusters)]\n",
    "ref_id = set(reference['Cat ID'])\n",
    "predictions = pd.DataFrame([(name, sim, 'Seed' if catid == idx_to_catid(randseed) else catid in ref_id) for catid, name, sim in knn_results],columns=['Category','Similarity','In reference'])\n",
    "display(predictions)\n",
    "display(reference)"
   ]
  },
  {
   "cell_type": "code",
   "execution_count": null,
   "metadata": {
    "jupyter": {
     "source_hidden": true
    },
    "tags": []
   },
   "outputs": [],
   "source": [
    "# embed_tsne3 = TSNE(n_components=3, learning_rate='auto',init='random', perplexity=50).fit_transform(embeddings.numpy())\n",
    "embed_tsne2 = TSNE(n_components=2, learning_rate='auto',init='random', perplexity=50).fit_transform(embeddings.numpy())"
   ]
  },
  {
   "cell_type": "code",
   "execution_count": null,
   "metadata": {
    "collapsed": true,
    "jupyter": {
     "outputs_hidden": true,
     "source_hidden": true
    },
    "tags": []
   },
   "outputs": [],
   "source": [
    "large_clusters = embed_tsne2[large_index]\n",
    "x = large_clusters[:,0]\n",
    "y = large_clusters[:,1]\n",
    "color = np.array(mappings_data['Cluster ID'][large_index])\n",
    "fig,ax = plt.subplots(figsize=(8,8))\n",
    "ax.scatter(x,y,s=6,c=color)\n",
    "ax.set_title('Large clusters')\n",
    "plt.show()"
   ]
  },
  {
   "cell_type": "code",
   "execution_count": null,
   "metadata": {
    "jupyter": {
     "source_hidden": true
    },
    "tags": []
   },
   "outputs": [],
   "source": [
    "small_clusters = embed_tsne2[small_index]\n",
    "x = small_clusters[:,0]\n",
    "y = small_clusters[:,1]\n",
    "color = np.array(mappings_data['Cluster ID'][small_index])\n",
    "fig,ax = plt.subplots(figsize=(8,8))\n",
    "ax.scatter(x,y,s=6,c=color)\n",
    "ax.set_title('Small clusters')\n",
    "plt.show()"
   ]
  },
  {
   "cell_type": "code",
   "execution_count": null,
   "metadata": {
    "jupyter": {
     "source_hidden": true
    },
    "tags": []
   },
   "outputs": [],
   "source": [
    "# large_clusters3 = embed_tsne3[large_index]\n",
    "# x = large_clusters3[:,0]\n",
    "# y = large_clusters3[:,1]\n",
    "# z = large_clusters3[:,2]\n",
    "# color = np.array(mappings_data['Cluster ID'][large_index])\n",
    "# fig = plt.figure(figsize = (8,8))\n",
    "# ax = fig.add_subplot(projection='3d')\n",
    "# ax.scatter(x,y,z,s=6,c=color)\n",
    "# ax.set_title('Large clusters')\n",
    "# plt.show()"
   ]
  },
  {
   "cell_type": "code",
   "execution_count": null,
   "metadata": {
    "jupyter": {
     "source_hidden": true
    },
    "tags": []
   },
   "outputs": [],
   "source": [
    "# small_clusters3 = embed_tsne3[small_index]\n",
    "# x = small_clusters3[:,0]\n",
    "# y = small_clusters3[:,1]\n",
    "# z = small_clusters3[:,2]\n",
    "# color = np.array(mappings_data['Cluster ID'][small_index])\n",
    "# fig = plt.figure(figsize = (8,8))\n",
    "# ax = fig.add_subplot(projection='3d')\n",
    "# ax.scatter(x,y,z,s=6,c=color)\n",
    "# ax.set_title('Small clusters')\n",
    "# plt.show()"
   ]
  },
  {
   "cell_type": "code",
   "execution_count": null,
   "metadata": {},
   "outputs": [],
   "source": [
    "num_candidates = 35\n",
    "knn_results = [(idx_to_catid(entry[0]),entry[1],entry[2]) for entry in knn[randseed][:num_candidates+1]]\n",
    "ref_clusters = mappings_data[mappings_data['Cat ID'] == idx_to_catid(randseed)]['Cluster ID'].unique()\n",
    "reference = mappings_data[mappings_data['Cluster ID'].isin(ref_clusters)]\n",
    "ref_id = set(reference['Cat ID'])\n",
    "predictions = pd.DataFrame([(name, sim, 'Seed' if catid == idx_to_catid(randseed) else catid in ref_id) for catid, name, sim in knn_results],columns=['Category','Similarity','In reference'])\n",
    "display(predictions)\n",
    "display(reference)"
   ]
  },
  {
   "cell_type": "code",
   "execution_count": null,
   "metadata": {},
   "outputs": [],
   "source": []
  }
 ],
 "metadata": {
  "kernelspec": {
   "display_name": "Python 3 (ipykernel)",
   "language": "python",
   "name": "python3"
  },
  "language_info": {
   "codemirror_mode": {
    "name": "ipython",
    "version": 3
   },
   "file_extension": ".py",
   "mimetype": "text/x-python",
   "name": "python",
   "nbconvert_exporter": "python",
   "pygments_lexer": "ipython3",
   "version": "3.8.18"
  }
 },
 "nbformat": 4,
 "nbformat_minor": 4
}
