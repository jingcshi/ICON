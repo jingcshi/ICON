{
 "cells": [
  {
   "cell_type": "code",
   "execution_count": 1,
   "metadata": {},
   "outputs": [],
   "source": [
    "import pandas as pd"
   ]
  },
  {
   "cell_type": "code",
   "execution_count": 12,
   "metadata": {},
   "outputs": [],
   "source": [
    "mixtral_temp0 = pd.read_csv('./results/concept_repr/ebay_us_desc_Mixtral-temp0.csv')\n",
    "mixtral_temp005 = pd.read_csv('./results/concept_repr/ebay_us_desc_Mixtral-temp0.05.csv')\n",
    "qwen_temp0 = pd.read_csv('./results/concept_repr/ebay_us_desc_Qwen-temp0.csv')\n",
    "qwen_temp005 = pd.read_csv('./results/concept_repr/ebay_us_desc_Qwen-temp0.05.csv')"
   ]
  },
  {
   "cell_type": "code",
   "execution_count": 3,
   "metadata": {},
   "outputs": [],
   "source": [
    "def bad(text):\n",
    "    return '\\n' in text"
   ]
  },
  {
   "cell_type": "code",
   "execution_count": 13,
   "metadata": {},
   "outputs": [],
   "source": [
    "mixtral_temp0_bad = mixtral_temp0[mixtral_temp0['pred'].apply(bad)]\n",
    "mixtral_temp005_bad = mixtral_temp005[mixtral_temp005['pred'].apply(bad)]\n",
    "qwen_temp0_bad = qwen_temp0[qwen_temp0['pred'].apply(bad)]\n",
    "qwen_temp005_bad = qwen_temp0[qwen_temp005['pred'].apply(bad)]"
   ]
  },
  {
   "cell_type": "code",
   "execution_count": 16,
   "metadata": {},
   "outputs": [
    {
     "data": {
      "text/plain": [
       "38"
      ]
     },
     "execution_count": 16,
     "metadata": {},
     "output_type": "execute_result"
    }
   ],
   "source": [
    "len(qwen_temp005_bad)"
   ]
  },
  {
   "cell_type": "code",
   "execution_count": 18,
   "metadata": {},
   "outputs": [
    {
     "data": {
      "text/html": [
       "<div>\n",
       "<style scoped>\n",
       "    .dataframe tbody tr th:only-of-type {\n",
       "        vertical-align: middle;\n",
       "    }\n",
       "\n",
       "    .dataframe tbody tr th {\n",
       "        vertical-align: top;\n",
       "    }\n",
       "\n",
       "    .dataframe thead th {\n",
       "        text-align: right;\n",
       "    }\n",
       "</style>\n",
       "<table border=\"1\" class=\"dataframe\">\n",
       "  <thead>\n",
       "    <tr style=\"text-align: right;\">\n",
       "      <th></th>\n",
       "      <th>ID</th>\n",
       "      <th>name</th>\n",
       "      <th>pred</th>\n",
       "    </tr>\n",
       "  </thead>\n",
       "  <tbody>\n",
       "    <tr>\n",
       "      <th>0</th>\n",
       "      <td>0</td>\n",
       "      <td>Root Concept</td>\n",
       "      <td>Root Concept is the top-level category in the ...</td>\n",
       "    </tr>\n",
       "    <tr>\n",
       "      <th>1</th>\n",
       "      <td>1</td>\n",
       "      <td>Collectibles</td>\n",
       "      <td>Collectibles is a broad category for items tha...</td>\n",
       "    </tr>\n",
       "    <tr>\n",
       "      <th>2</th>\n",
       "      <td>20081</td>\n",
       "      <td>Antiques</td>\n",
       "      <td>Antiques is a category for items that are at l...</td>\n",
       "    </tr>\n",
       "    <tr>\n",
       "      <th>3</th>\n",
       "      <td>12</td>\n",
       "      <td>Other Antiques</td>\n",
       "      <td>Other Antiques is a category for unique and mi...</td>\n",
       "    </tr>\n",
       "    <tr>\n",
       "      <th>4</th>\n",
       "      <td>1430</td>\n",
       "      <td>Collectible Metalware</td>\n",
       "      <td>Collectible Metalware is a category for antiqu...</td>\n",
       "    </tr>\n",
       "    <tr>\n",
       "      <th>...</th>\n",
       "      <td>...</td>\n",
       "      <td>...</td>\n",
       "      <td>...</td>\n",
       "    </tr>\n",
       "    <tr>\n",
       "      <th>20329</th>\n",
       "      <td>263469</td>\n",
       "      <td>ATV, Side-by-Side &amp; UTV Gearbox &amp; Transmission...</td>\n",
       "      <td>ATV, Side-by-Side &amp; UTV Gearbox &amp; Transmission...</td>\n",
       "    </tr>\n",
       "    <tr>\n",
       "      <th>20330</th>\n",
       "      <td>263470</td>\n",
       "      <td>ATV, Side-by-Side &amp; UTV Gaskets &amp; Seals</td>\n",
       "      <td>ATV, Side-by-Side &amp; UTV Gaskets &amp; Seals is a c...</td>\n",
       "    </tr>\n",
       "    <tr>\n",
       "      <th>20331</th>\n",
       "      <td>263471</td>\n",
       "      <td>ATV, Side-by-Side &amp; UTV Brake Blockoffs</td>\n",
       "      <td>ATV, Side-by-Side &amp; UTV Brake Blockoffs is a c...</td>\n",
       "    </tr>\n",
       "    <tr>\n",
       "      <th>20332</th>\n",
       "      <td>263472</td>\n",
       "      <td>ATV, Side-by-Side &amp; UTV Brake Component Kits</td>\n",
       "      <td>ATV, Side-by-Side &amp; UTV Brake Component Kits i...</td>\n",
       "    </tr>\n",
       "    <tr>\n",
       "      <th>20333</th>\n",
       "      <td>263473</td>\n",
       "      <td>ATV, Side-by-Side &amp; UTV Rebuild Kits &amp; Parts</td>\n",
       "      <td>ATV, Side-by-Side &amp; UTV Rebuild Kits &amp; Parts i...</td>\n",
       "    </tr>\n",
       "  </tbody>\n",
       "</table>\n",
       "<p>20334 rows × 3 columns</p>\n",
       "</div>"
      ],
      "text/plain": [
       "           ID                                               name  \\\n",
       "0           0                                       Root Concept   \n",
       "1           1                                       Collectibles   \n",
       "2       20081                                           Antiques   \n",
       "3          12                                     Other Antiques   \n",
       "4        1430                              Collectible Metalware   \n",
       "...       ...                                                ...   \n",
       "20329  263469  ATV, Side-by-Side & UTV Gearbox & Transmission...   \n",
       "20330  263470            ATV, Side-by-Side & UTV Gaskets & Seals   \n",
       "20331  263471            ATV, Side-by-Side & UTV Brake Blockoffs   \n",
       "20332  263472       ATV, Side-by-Side & UTV Brake Component Kits   \n",
       "20333  263473       ATV, Side-by-Side & UTV Rebuild Kits & Parts   \n",
       "\n",
       "                                                    pred  \n",
       "0      Root Concept is the top-level category in the ...  \n",
       "1      Collectibles is a broad category for items tha...  \n",
       "2      Antiques is a category for items that are at l...  \n",
       "3      Other Antiques is a category for unique and mi...  \n",
       "4      Collectible Metalware is a category for antiqu...  \n",
       "...                                                  ...  \n",
       "20329  ATV, Side-by-Side & UTV Gearbox & Transmission...  \n",
       "20330  ATV, Side-by-Side & UTV Gaskets & Seals is a c...  \n",
       "20331  ATV, Side-by-Side & UTV Brake Blockoffs is a c...  \n",
       "20332  ATV, Side-by-Side & UTV Brake Component Kits i...  \n",
       "20333  ATV, Side-by-Side & UTV Rebuild Kits & Parts i...  \n",
       "\n",
       "[20334 rows x 3 columns]"
      ]
     },
     "execution_count": 18,
     "metadata": {},
     "output_type": "execute_result"
    }
   ],
   "source": [
    "qwen_temp005"
   ]
  }
 ],
 "metadata": {
  "kernelspec": {
   "display_name": "ICON",
   "language": "python",
   "name": "python3"
  },
  "language_info": {
   "codemirror_mode": {
    "name": "ipython",
    "version": 3
   },
   "file_extension": ".py",
   "mimetype": "text/x-python",
   "name": "python",
   "nbconvert_exporter": "python",
   "pygments_lexer": "ipython3",
   "version": "3.12.4"
  }
 },
 "nbformat": 4,
 "nbformat_minor": 2
}
