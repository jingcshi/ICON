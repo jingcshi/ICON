{
 "cells": [
  {
   "cell_type": "code",
   "execution_count": 1,
   "metadata": {},
   "outputs": [
    {
     "name": "stderr",
     "output_type": "stream",
     "text": [
      "\n",
      "Warning: SQLite3 version 3.40.0 and 3.41.2 have huge performance regressions; please install version 3.41.1 or 3.42!\n",
      "\n"
     ]
    }
   ],
   "source": [
    "import os\n",
    "import sys\n",
    "sys.path.append(os.getcwd() + '/..')\n",
    "import pandas as pd\n",
    "import numpy as np\n",
    "from tqdm.notebook import tqdm\n",
    "from utils import taxo_utils\n",
    "np.random.seed(114514)"
   ]
  },
  {
   "cell_type": "code",
   "execution_count": 2,
   "metadata": {},
   "outputs": [],
   "source": [
    "taxo = taxo_utils.from_json('./../data/raw/google.json')"
   ]
  },
  {
   "cell_type": "code",
   "execution_count": 3,
   "metadata": {
    "tags": []
   },
   "outputs": [],
   "source": [
    "# The following methods are used to build the subsumption data from ontology / mappings.\n",
    "# Positive data are all the direct subsumptions in the ontology.\n",
    "from re import M\n",
    "\n",
    "\n",
    "def get_positive(taxo:taxo_utils.Taxonomy):\n",
    "    data = {'Subclass':[],'Superclass':[],'labels':[]}\n",
    "    for c in list(taxo.nodes):\n",
    "        for s in taxo.get_descendants_by_depth(c,max_depth=2):\n",
    "            data['Subclass'].append(s)\n",
    "            data['Superclass'].append(c)\n",
    "            data['labels'].append(1)\n",
    "    return data\n",
    "\n",
    "# Neighbours refer to direct subclasses and superclasses. Uses BFS.\n",
    "def get_n_hop_neighbours(seed,depth):\n",
    "    queue = [(seed, 0)] \n",
    "    visited = set([seed])\n",
    "    neighbours = []\n",
    "    while queue:\n",
    "        node, hop_count = queue.pop(0)\n",
    "        if hop_count == depth:\n",
    "            neighbours.append(node)\n",
    "            continue\n",
    "        if hop_count < depth:\n",
    "            for neighbor in taxo.get_subclasses(node,return_type=set).union(taxo.get_superclasses(node,return_type=set)):\n",
    "                if neighbor not in visited:\n",
    "                    queue.append((neighbor, hop_count + 1))\n",
    "                    visited.add(neighbor)\n",
    "    return neighbours\n",
    "\n",
    "# Replace superclass with a random non subsuming class.\n",
    "def get_easy_negatives_from_positive(taxo: taxo_utils.Taxonomy,positive,rate):\n",
    "    data = {'Subclass':[],'Superclass':[],'labels':[]}\n",
    "    classes = list(taxo.nodes)\n",
    "    onto_size = len(classes)\n",
    "    classes_set = set(taxo.nodes)\n",
    "    N = len(positive['labels'])\n",
    "    with tqdm(total = N, desc='Easy negatives') as pbar:\n",
    "        for i in range(N):\n",
    "            sub = positive['Subclass'][i]\n",
    "            ancestors = taxo.get_ancestors(sub)\n",
    "            negclasses = [classes[i] for i in np.random.choice(onto_size,int(rate))]\n",
    "            for neg in negclasses:\n",
    "                if neg in ancestors:\n",
    "                    neg = np.random.choice(list(classes_set.difference(ancestors)),1)[0]\n",
    "                data['Subclass'].append(sub)\n",
    "                data['Superclass'].append(neg)\n",
    "                data['labels'].append(0)\n",
    "            pbar.update(1)\n",
    "    return data\n",
    "\n",
    "# Replace superclass with its neighbours obtained from random walk.\n",
    "def get_hard_negatives_from_positive(taxo: taxo_utils.Taxonomy,positive,rate):\n",
    "    data = {'Subclass':[],'Superclass':[],'labels':[]}\n",
    "    classlist = list(taxo.nodes)\n",
    "    onto_size = len(classlist)\n",
    "    N = len(positive['labels'])\n",
    "    with tqdm(total = N, desc='Hard negatives') as pbar:\n",
    "        for i in range(N):\n",
    "            sub = positive['Subclass'][i]\n",
    "            sup = positive['Superclass'][i]\n",
    "            ancestors = taxo.get_ancestors(sub)\n",
    "            negclasses = set()\n",
    "            depth = 2\n",
    "            candidates = set.union(*[set(get_n_hop_neighbours(sup,d+1)) for d in range(depth)]).difference(ancestors)\n",
    "            while len(candidates) < rate:\n",
    "                depth += 1\n",
    "                candidates = candidates.union(set(get_n_hop_neighbours(sup,depth))).difference(ancestors)\n",
    "            negclasses = np.random.choice(list(candidates),int(rate))\n",
    "            for neg in negclasses:\n",
    "                data['Subclass'].append(sub)\n",
    "                data['Superclass'].append(neg)\n",
    "                data['labels'].append(0)\n",
    "            pbar.update(1)\n",
    "    return data\n",
    "            \n",
    "# Subsumption data for the training of subsumption prediction model.\n",
    "def build_subs_data(taxo: taxo_utils.Taxonomy,easy_neg_to_pos_rate=1,hard_neg_to_pos_rate=1,test_size=0.05):\n",
    "    pos = get_positive(taxo)\n",
    "    easy_neg = get_easy_negatives_from_positive(taxo,pos,easy_neg_to_pos_rate)\n",
    "    hard_neg = get_hard_negatives_from_positive(taxo,pos,hard_neg_to_pos_rate)   \n",
    "    dflist = [pd.DataFrame(pos),pd.DataFrame(easy_neg),pd.DataFrame(hard_neg)]\n",
    "    for df in dflist:\n",
    "        df['Subclass'] = df['Subclass'].apply(lambda c: taxo.get_label(c))\n",
    "        df['Superclass'] = df['Superclass'].apply(lambda c: taxo.get_label(c))\n",
    "    test_data = [df.sample(frac=test_size) for df in dflist]\n",
    "    train_data = [dflist[i].drop(testdf.index) for i,testdf in enumerate(test_data)]\n",
    "    return pd.concat(train_data), pd.concat(test_data)"
   ]
  },
  {
   "cell_type": "code",
   "execution_count": 4,
   "metadata": {},
   "outputs": [
    {
     "data": {
      "application/vnd.jupyter.widget-view+json": {
       "model_id": "17e1ee7711974a86b820064989466674",
       "version_major": 2,
       "version_minor": 0
      },
      "text/plain": [
       "Easy negatives:   0%|          | 0/11169 [00:00<?, ?it/s]"
      ]
     },
     "metadata": {},
     "output_type": "display_data"
    },
    {
     "data": {
      "application/vnd.jupyter.widget-view+json": {
       "model_id": "0fd38b32031948a0a76f62f04560b74e",
       "version_major": 2,
       "version_minor": 0
      },
      "text/plain": [
       "Hard negatives:   0%|          | 0/11169 [00:00<?, ?it/s]"
      ]
     },
     "metadata": {},
     "output_type": "display_data"
    }
   ],
   "source": [
    "train_data,eval_data = build_subs_data(taxo)\n",
    "train_data.to_csv('./../data/sub/train.csv',index=False)\n",
    "eval_data.to_csv('./../data/sub/test.csv',index=False)"
   ]
  }
 ],
 "metadata": {
  "kernelspec": {
   "display_name": "Python 3 (ipykernel)",
   "language": "python",
   "name": "python3"
  },
  "language_info": {
   "codemirror_mode": {
    "name": "ipython",
    "version": 3
   },
   "file_extension": ".py",
   "mimetype": "text/x-python",
   "name": "python",
   "nbconvert_exporter": "python",
   "pygments_lexer": "ipython3",
   "version": "3.8.18"
  }
 },
 "nbformat": 4,
 "nbformat_minor": 4
}
