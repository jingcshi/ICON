{
 "cells": [
  {
   "cell_type": "code",
   "execution_count": 6,
   "metadata": {},
   "outputs": [],
   "source": [
    "import os\n",
    "import sys\n",
    "sys.path.append(os.getcwd() + '/..')\n",
    "import pandas as pd\n",
    "import numpy as np\n",
    "from tqdm.notebook import tqdm\n",
    "from itertools import combinations\n",
    "from utils import taxo_utils\n",
    "np.random.seed(114514)"
   ]
  },
  {
   "cell_type": "code",
   "execution_count": 7,
   "metadata": {},
   "outputs": [],
   "source": [
    "taxo = taxo_utils.from_json('./../data/raw/google.json')"
   ]
  },
  {
   "cell_type": "code",
   "execution_count": 8,
   "metadata": {
    "tags": []
   },
   "outputs": [],
   "source": [
    "# The following methods are used to build the contrastive data from ontology / mappings.\n",
    "# Obtain clusters from an ontology. Each cluster is a list of class IDs (integers) sharing the same direct common parent.\n",
    "def get_clusters_from_taxo(taxo:taxo_utils.Taxonomy):\n",
    "    clusters = []\n",
    "    for cat in list(taxo.nodes):\n",
    "        family = taxo.get_subclasses(cat)\n",
    "        if len(family) <= 1:\n",
    "            continue\n",
    "        clusters.append(family)            \n",
    "    return clusters\n",
    "\n",
    "# Method to sample pairs of classes from a cluster. Used to build the positive part of the contrastive data.\n",
    "def cluster_sample(n:int,cover_rate:int=2):\n",
    "    if n < 2:\n",
    "        raise ValueError('At least 2 items are needed for contrastive sampling.')\n",
    "    pairs = list(combinations(list(range(n)), 2))\n",
    "    ratio, remainder = cover_rate // (n-1), cover_rate%(n-1)\n",
    "    fullcover = [pair for pair in pairs for _ in range(ratio)]\n",
    "    subcover = [(i,j) for (i,j) in pairs if min((i-j)%n,(j-i)%n) <= (remainder // 2)]\n",
    "    if remainder%2 != 0 and n%2 == 0:\n",
    "        subcover = subcover + [(i,j) for (i,j) in pairs if (i-j)%n == (n // 2)]\n",
    "    return fullcover + subcover\n",
    "\n",
    "# Calculate the number of pairs cluster_sample would return for a given cluster size and cover rate.\n",
    "def num_pairs(n,cover_rate):\n",
    "    ratio, remainder = cover_rate//(n-1), cover_rate%(n-1)\n",
    "    full_num = ratio*n*(n-1)//2\n",
    "    sub_num = n*(remainder//2)\n",
    "    if remainder%2 != 0 and n%2 == 0:\n",
    "        sub_num += n//2\n",
    "    return full_num + sub_num\n",
    "\n",
    "# Method to sample n random classes unrelated to the query class. Used to build the negative part of the contrastive data.\n",
    "def get_negative(taxo:taxo_utils.Taxonomy,query,n):\n",
    "    negative = set()\n",
    "    classes = list(taxo.nodes)\n",
    "    m = len(classes)\n",
    "    # query_tokenset = [(t,'n') for t in query.tokenset[0].split(', ')]\n",
    "    while len(negative) < n:\n",
    "        randidx = int(np.random.choice(m,size=1))\n",
    "        randclass = classes[randidx]\n",
    "        if taxo.get_ancestors(query,return_type=set).intersection(taxo.get_ancestors(randclass,return_type=set)) == {0}:\n",
    "        # rand_tokenset = [(t,'n') for t in randclass.tokenset[0].split(', ')]\n",
    "        # if bc.tokenset_neg_check(query_tokenset,rand_tokenset):\n",
    "            negative.add(randclass)\n",
    "    return list(negative)\n",
    "\n",
    "# Find a random subset whose sum is close to n. Used to find a subset of clusters to hold out for evaluation.\n",
    "def solve_subarray_sum(arr, target):\n",
    "    n = len(arr)\n",
    "    randmap = np.random.permutation(n)\n",
    "    arr = np.array([arr[i] for i in randmap])\n",
    "    selected_indices = []\n",
    "    subset = []\n",
    "    setsum = 0\n",
    "    for i in range(n):\n",
    "        selected_indices.append(i)\n",
    "        subset.append(arr[i])\n",
    "        setsum += arr[i]\n",
    "        if setsum >= target:\n",
    "            break   \n",
    "    return [randmap[i] for i in selected_indices]\n",
    "\n",
    "# Contrastive data for the training of class retrieval model.\n",
    "def build_contrastive_data(taxo: taxo_utils.Taxonomy,cover_rate=2,negs_per_batch=1,test_size=0.05):\n",
    "    clusters = get_clusters_from_taxo(taxo)\n",
    "    train_data = {'query_label':[],'positive_label':[],'negatives_label':[]}\n",
    "    test_data = {'query_label':[],'positive_label':[],'negatives_label':[]}\n",
    "    rows_per_cluster = [num_pairs(len(c),cover_rate=cover_rate) for c in clusters]\n",
    "    total_rows = sum(rows_per_cluster)\n",
    "    test_rows = int(total_rows * test_size)\n",
    "    eval_cluster_idx = solve_subarray_sum(rows_per_cluster,test_rows)\n",
    "    with tqdm(total = total_rows) as pbar:\n",
    "        for i,cluster in enumerate(clusters):\n",
    "            data_to_write = test_data if i in eval_cluster_idx else train_data\n",
    "            pairs = cluster_sample(len(cluster),cover_rate=cover_rate)\n",
    "            for j,k in pairs:\n",
    "                query, positive = cluster[j], cluster[k]\n",
    "                if np.random.random() < 0.5:\n",
    "                    query, positive = positive, query\n",
    "                negatives = get_negative(taxo,query,negs_per_batch)\n",
    "                data_to_write['query_label'].append(taxo.get_label(query))\n",
    "                data_to_write['positive_label'].append(taxo.get_label(positive))\n",
    "                data_to_write['negatives_label'].append([taxo.get_label(n) for n in negatives])\n",
    "                pbar.update(1)\n",
    "    return pd.DataFrame(train_data), pd.DataFrame(test_data)"
   ]
  },
  {
   "cell_type": "code",
   "execution_count": 9,
   "metadata": {},
   "outputs": [
    {
     "data": {
      "application/vnd.jupyter.widget-view+json": {
       "model_id": "0757c140544f4190ace7f9d143acce26",
       "version_major": 2,
       "version_minor": 0
      },
      "text/plain": [
       "  0%|          | 0/11036 [00:00<?, ?it/s]"
      ]
     },
     "metadata": {},
     "output_type": "display_data"
    }
   ],
   "source": [
    "cover_rate = 4\n",
    "negs_per_batch = 10\n",
    "train_data,eval_data = build_contrastive_data(taxo,cover_rate=cover_rate,negs_per_batch=negs_per_batch)\n",
    "train_data.to_csv(f'./../data/ret/train_cover{cover_rate}_neg{negs_per_batch}.tsv',sep='\\t',index=False)\n",
    "eval_data.to_csv(f'./../data/ret/test_cover{cover_rate}_neg{negs_per_batch}.tsv',sep='\\t',index=False)"
   ]
  }
 ],
 "metadata": {
  "kernelspec": {
   "display_name": "Python 3 (ipykernel)",
   "language": "python",
   "name": "python3"
  },
  "language_info": {
   "codemirror_mode": {
    "name": "ipython",
    "version": 3
   },
   "file_extension": ".py",
   "mimetype": "text/x-python",
   "name": "python",
   "nbconvert_exporter": "python",
   "pygments_lexer": "ipython3",
   "version": "3.8.18"
  }
 },
 "nbformat": 4,
 "nbformat_minor": 4
}
