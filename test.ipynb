{
 "cells": [
  {
   "cell_type": "code",
   "execution_count": 1,
   "metadata": {},
   "outputs": [
    {
     "name": "stderr",
     "output_type": "stream",
     "text": [
      "\n",
      "Warning: SQLite3 version 3.40.0 and 3.41.2 have huge performance regressions; please install version 3.41.1 or 3.42!\n",
      "\n"
     ]
    }
   ],
   "source": [
    "from utils import icon"
   ]
  },
  {
   "cell_type": "code",
   "execution_count": 2,
   "metadata": {},
   "outputs": [],
   "source": [
    "newobj = icon.ICON()"
   ]
  },
  {
   "cell_type": "code",
   "execution_count": 16,
   "metadata": {},
   "outputs": [],
   "source": [
    "newobj.update_config(threshold=0.9)"
   ]
  },
  {
   "cell_type": "code",
   "execution_count": 14,
   "metadata": {},
   "outputs": [
    {
     "data": {
      "text/plain": [
       "icon_config(mode='auto', rand_seed=114514, auto_config=icon_auto_config(max_outer_loop=None), semiauto_config=icon_semiauto_config(semiauto_seeds=[]), manual_config=icon_manual_config(input_concepts=[], inputs_concept_bases=None), ret_config=icon_ret_config(retrieve_size=10, restrict_combinations=True), gen_config=icon_gen_config(ignore_label=['', 'All categories', 'Root Concept', 'Thing', 'Allcats', 'Everything', 'root'], filter_subset=True), sub_config=icon_sub_config(subgraph=icon_subgraph_config(subgraph_crop=True, subgraph_force=[['original']], subgraph_strict=True), search=icon_search_config(threshold=0.5, tolerance=0, force_base_subsumptions=False, force_prune=False)), update_config=icon_update_config(eqv_score_func=<function ICON.<lambda> at 0x7f3efe2e08b0>, do_lexical_check=True), transitive_reduction=True, log=False)"
      ]
     },
     "execution_count": 14,
     "metadata": {},
     "output_type": "execute_result"
    }
   ],
   "source": [
    "newobj.config"
   ]
  }
 ],
 "metadata": {
  "kernelspec": {
   "display_name": "ICON",
   "language": "python",
   "name": "python3"
  },
  "language_info": {
   "codemirror_mode": {
    "name": "ipython",
    "version": 3
   },
   "file_extension": ".py",
   "mimetype": "text/x-python",
   "name": "python",
   "nbconvert_exporter": "python",
   "pygments_lexer": "ipython3",
   "version": "3.8.18"
  }
 },
 "nbformat": 4,
 "nbformat_minor": 2
}
