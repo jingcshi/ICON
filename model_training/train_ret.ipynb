{
 "cells": [
  {
   "cell_type": "code",
   "execution_count": 1,
   "metadata": {},
   "outputs": [
    {
     "data": {
      "text/plain": [
       "<torch._C.Generator at 0x7fcc01699a70>"
      ]
     },
     "execution_count": 1,
     "metadata": {},
     "output_type": "execute_result"
    }
   ],
   "source": [
    "import os\n",
    "import sys\n",
    "sys.path.append(os.getcwd() + '/..')\n",
    "import torch\n",
    "import pandas as pd\n",
    "import numpy as np\n",
    "import re\n",
    "from datetime import datetime\n",
    "from info_nce import InfoNCE\n",
    "from transformers import AutoModel, AutoTokenizer, get_scheduler\n",
    "from tqdm.notebook import tqdm\n",
    "from datasets import Dataset\n",
    "from torch.utils.data import DataLoader\n",
    "from torch.optim import AdamW\n",
    "from simcse import SimCSE\n",
    "\n",
    "train_path = './../../data/ret/train_cover4_neg10.tsv'\n",
    "eval_path = './../../data/ret/test_cover4_neg10.tsv'\n",
    "\n",
    "device = 'cuda' if torch.cuda.is_available() else 'cpu'\n",
    "NUM_EPOCHS = 6\n",
    "LR = 0.05\n",
    "BATCH_SIZE = 1\n",
    "loss_temperature = 0.1\n",
    "reSplitTokenset = re.compile(r'\\'((?:\\w+, )*\\w+)\\'(?:,|$)')\n",
    "reSplitLabel = re.compile(r'[\\'\\\"](.*?)[\\'\\\"](?:,|$)')\n",
    "train_data = pd.read_csv(train_path,sep='\\t')\n",
    "eval_data = pd.read_csv(eval_path,sep='\\t')\n",
    "train_data['negatives_label'] = train_data['negatives_label'].apply(lambda row: re.findall(reSplitLabel,row[1:-1]))\n",
    "eval_data['negatives_label'] = eval_data['negatives_label'].apply(lambda row: re.findall(reSplitLabel,row[1:-1]))\n",
    "np.random.seed(114514)\n",
    "torch.manual_seed(114514)"
   ]
  },
  {
   "cell_type": "code",
   "execution_count": 3,
   "metadata": {},
   "outputs": [],
   "source": [
    "def count_parameters(model):\n",
    "    return sum(p.numel() for p in model.parameters() if p.requires_grad)\n",
    "\n",
    "def load_model(checkpoint):\n",
    "    tokenizer = AutoTokenizer.from_pretrained(checkpoint,model_max_length = 40)\n",
    "    model = AutoModel.from_pretrained(checkpoint).to(device)\n",
    "    print(f'The model has {count_parameters(model)} trainable parameters')\n",
    "    return model, tokenizer"
   ]
  },
  {
   "cell_type": "code",
   "execution_count": 5,
   "metadata": {},
   "outputs": [
    {
     "name": "stdout",
     "output_type": "stream",
     "text": [
      "The model has 222903552 trainable parameters\n"
     ]
    }
   ],
   "source": [
    "model_path = '/data2T/jingchuan/untuned/flan-t5-base/' \n",
    "model, tokenizer = load_model(model_path)\n",
    "model_name = model_path.split('/')[-2]\n",
    "model_type = str(type(model)).split('.')[-1][:-2]"
   ]
  },
  {
   "cell_type": "code",
   "execution_count": 2,
   "metadata": {},
   "outputs": [],
   "source": [
    "def tokenize(examples):\n",
    "    textinput = [examples['query_label']] + [examples['positive_label']] + examples['negatives_label']\n",
    "    return tokenizer(textinput, padding=True, truncation=False)\n"
   ]
  },
  {
   "cell_type": "code",
   "execution_count": 4,
   "metadata": {},
   "outputs": [],
   "source": [
    "def train_and_eval(model, train_iterator, eval_iterator, lossfunc, num_epochs, optimizer, lr_scheduler):\n",
    "    loss_history = pd.DataFrame({'Epoch':[],'Training loss':[],'Evaluation loss':[]}).set_index('Epoch')\n",
    "    n_train = len(train_iterator)\n",
    "    n_eval = len(eval_iterator)\n",
    "    embed_dim = model.pooler.dense.out_features\n",
    "    with tqdm(total = num_epochs, position = 0, desc = 'Epoch') as outer:\n",
    "        with tqdm(total = n_train, position = 1, leave = False, desc = 'Training') as inner1:\n",
    "            with tqdm(total = n_eval, position = 2, leave = False, desc = 'Evaluating') as inner2:\n",
    "                for e in range(num_epochs):\n",
    "                    l_train = 0\n",
    "                    model.train()\n",
    "                    for batch in train_iterator:\n",
    "                        batch_size = batch['input_ids'].shape[0]\n",
    "                        seq_len = batch['input_ids'].shape[2]\n",
    "                        batch = {k:v.reshape((1,-1,seq_len)).squeeze() for k,v in batch.items()}\n",
    "                        outputs = model(**batch).pooler_output.reshape((batch_size,-1,embed_dim))\n",
    "                        query_embed = outputs[:,0,:]\n",
    "                        pos_embed = outputs[:,1,:]\n",
    "                        neg_embeds = outputs[:,2:,:]\n",
    "                        loss = lossfunc(query_embed,pos_embed,neg_embeds)\n",
    "                        loss.backward()\n",
    "                        optimizer.step()\n",
    "                        lr_scheduler.step()\n",
    "                        optimizer.zero_grad()\n",
    "                        l_train += loss.detach().item()\n",
    "                        inner1.update(1)\n",
    "                    l_eval = 0\n",
    "                    model.eval()\n",
    "                    for batch in eval_iterator:\n",
    "                        batch_size = batch['input_ids'].shape[0]\n",
    "                        seq_len = batch['input_ids'].shape[2]\n",
    "                        batch = {k:v.reshape((1,-1,seq_len)).squeeze() for k,v in batch.items()}\n",
    "                        with torch.no_grad():\n",
    "                            outputs = model(**batch).pooler_output.reshape((batch_size,-1,embed_dim))\n",
    "                        query_embed = outputs[:,0,:]\n",
    "                        pos_embed = outputs[:,1,:]\n",
    "                        neg_embeds = outputs[:,2:,:]\n",
    "                        loss = lossfunc(query_embed,pos_embed,neg_embeds)\n",
    "                        l_eval += loss.detach().item()\n",
    "                        inner2.update(1)\n",
    "                    inner1.reset()\n",
    "                    inner2.reset()\n",
    "                    loss_history.loc[e+1] = {'Training loss':l_train / n_train, 'Evaluation loss':l_eval / n_eval}\n",
    "                    display(loss_history)\n",
    "                    outer.update(1)\n",
    "    return loss_history"
   ]
  },
  {
   "cell_type": "code",
   "execution_count": 6,
   "metadata": {
    "tags": []
   },
   "outputs": [
    {
     "data": {
      "application/vnd.jupyter.widget-view+json": {
       "model_id": "84f1a0a6728e42c7b1541c13dc95b5f9",
       "version_major": 2,
       "version_minor": 0
      },
      "text/plain": [
       "Map:   0%|          | 0/38562 [00:00<?, ? examples/s]"
      ]
     },
     "metadata": {},
     "output_type": "display_data"
    },
    {
     "data": {
      "application/vnd.jupyter.widget-view+json": {
       "model_id": "3ba22f644226429793d7d9bf1ea5c5e5",
       "version_major": 2,
       "version_minor": 0
      },
      "text/plain": [
       "Map:   0%|          | 0/2032 [00:00<?, ? examples/s]"
      ]
     },
     "metadata": {},
     "output_type": "display_data"
    }
   ],
   "source": [
    "train_dataset = Dataset.from_pandas(train_data).map(lambda row: tokenize(row))\n",
    "eval_dataset = Dataset.from_pandas(eval_data).map(lambda row: tokenize(row))\n",
    "train_dataset.set_format(type=\"torch\", columns=([\"input_ids\", \"token_type_ids\", \"attention_mask\"] if (model_type in ['BertModel']) else [\"input_ids\", \"attention_mask\"]), device=device)\n",
    "eval_dataset.set_format(type=\"torch\", columns=([\"input_ids\", \"token_type_ids\", \"attention_mask\"] if (model_type in ['BertModel']) else [\"input_ids\", \"attention_mask\"]),device=device)"
   ]
  },
  {
   "cell_type": "code",
   "execution_count": 7,
   "metadata": {
    "tags": []
   },
   "outputs": [],
   "source": [
    "train_loader = DataLoader(train_dataset,shuffle=False,batch_size=BATCH_SIZE)\n",
    "eval_loader = DataLoader(eval_dataset,shuffle=False,batch_size=BATCH_SIZE)\n",
    "optimizer = AdamW(model.parameters(), lr=LR)\n",
    "lr_scheduler = get_scheduler(name=\"linear\", optimizer=optimizer, num_warmup_steps=1000, num_training_steps=NUM_EPOCHS * len(train_loader))\n",
    "lossfunc = InfoNCE(negative_mode='paired',reduction='mean',temperature=loss_temperature)"
   ]
  },
  {
   "cell_type": "code",
   "execution_count": null,
   "metadata": {
    "tags": []
   },
   "outputs": [],
   "source": [
    "loss_history = train_and_eval(model, train_loader, eval_loader, lossfunc, NUM_EPOCHS, optimizer, lr_scheduler)\n",
    "now = datetime.now()\n",
    "timestr = now.strftime('%Y%m%d-%H%M')\n",
    "model.save_pretrained(f'/data2T/jingchuan/tuned_models/ret/{model_name}_{timestr}')\n",
    "tokenizer.save_pretrained(f'/{model_name}_{timestr}')"
   ]
  },
  {
   "cell_type": "code",
   "execution_count": 9,
   "metadata": {},
   "outputs": [
    {
     "data": {
      "text/plain": [
       "['Collectible Advertising</s><pad><pad><pad><pad><pad><pad><pad><pad><pad>',\n",
       " 'Collectible Metalware</s><pad><pad><pad><pad><pad><pad><pad><pad>',\n",
       " 'Other Medical & Lab Equipment</s><pad><pad><pad><pad><pad><pad><pad>',\n",
       " 'First Aid Ointments, Creams & Oils</s>',\n",
       " \"Women's Golf Belts</s><pad><pad><pad><pad><pad><pad><pad>\",\n",
       " 'Travel Flight Socks</s><pad><pad><pad><pad><pad><pad><pad><pad>',\n",
       " 'Commercial Truck Exhaust Manifolds</s><pad><pad><pad><pad>',\n",
       " 'US Dollar Coins Mixed Lots</s><pad><pad><pad><pad><pad><pad><pad>',\n",
       " 'Audio/Video Media Repair Equipment</s><pad><pad><pad><pad><pad><pad><pad>',\n",
       " 'Micropets</s><pad><pad><pad><pad><pad><pad><pad><pad><pad><pad>',\n",
       " 'Metaphysical Runes</s><pad><pad><pad><pad><pad><pad><pad><pad>',\n",
       " 'Latch Hooking Kits</s><pad><pad><pad><pad><pad><pad><pad>']"
      ]
     },
     "execution_count": 9,
     "metadata": {},
     "output_type": "execute_result"
    }
   ],
   "source": [
    "tokenizer.batch_decode(train_dataset[0]['input_ids'])"
   ]
  }
 ],
 "metadata": {
  "kernelspec": {
   "display_name": "Python 3 (ipykernel)",
   "language": "python",
   "name": "python3"
  },
  "language_info": {
   "codemirror_mode": {
    "name": "ipython",
    "version": 3
   },
   "file_extension": ".py",
   "mimetype": "text/x-python",
   "name": "python",
   "nbconvert_exporter": "python",
   "pygments_lexer": "ipython3",
   "version": "3.8.18"
  }
 },
 "nbformat": 4,
 "nbformat_minor": 4
}
