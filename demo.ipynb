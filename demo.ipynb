{
 "cells": [
  {
   "cell_type": "code",
   "execution_count": 1,
   "id": "d10dff60-49d0-47a6-828c-937eec5a79b7",
   "metadata": {},
   "outputs": [
    {
     "name": "stderr",
     "output_type": "stream",
     "text": [
      "\n",
      "Warning: SQLite3 version 3.40.0 and 3.41.2 have huge performance regressions; please install version 3.41.1 or 3.42!\n",
      "\n"
     ]
    }
   ],
   "source": [
    "from typing import List, Union\n",
    "import torch\n",
    "import pandas as pd\n",
    "import numpy as np\n",
    "from simcse import SimCSE\n",
    "from transformers import BertForSequenceClassification, AutoModelForSeq2SeqLM, BertTokenizer, AutoTokenizer\n",
    "from utils import taxo_utils\n",
    "from utils.taxo_utils import Taxonomy\n",
    "from main.icon import ICON"
   ]
  },
  {
   "cell_type": "code",
   "execution_count": 2,
   "id": "e495a24e-6126-4bb4-907b-aefbdce9c0d2",
   "metadata": {
    "tags": []
   },
   "outputs": [],
   "source": [
    "device = 'cuda:1'\n",
    "# device = 'cuda' if torch.cuda.is_available() else 'cpu'\n",
    "ret_model = SimCSE('/data2T/jingchuan/tuned/ret/entity_type_tuned_sota/',device=device)\n",
    "gen_model = AutoModelForSeq2SeqLM.from_pretrained('/data2T/jingchuan/tuned/gen/flan-t5-sota/').to(device)\n",
    "gen_tokenizer = AutoTokenizer.from_pretrained('/data2T/jingchuan/tuned/gen/flan-t5-sota/')\n",
    "sub_model = BertForSequenceClassification.from_pretrained('/data2T/jingchuan/tuned/sub/bertsubs-sota/').to(device)\n",
    "sub_tokenizer = BertTokenizer.from_pretrained('/data2T/jingchuan/tuned/sub/bertsubs-sota/',model_max_length=128)"
   ]
  },
  {
   "cell_type": "code",
   "execution_count": 3,
   "id": "1edbdea1-25a3-4000-b687-c91029617976",
   "metadata": {
    "tags": []
   },
   "outputs": [],
   "source": [
    "taxo = taxo_utils.from_json('./data/raw/ebay_us.json')\n",
    "df = pd.DataFrame(taxo.nodes(data='label'),columns=['ID','Label']).drop(0).reset_index(drop=True)"
   ]
  },
  {
   "cell_type": "code",
   "execution_count": 4,
   "id": "ecc1afbb-18cc-453b-b787-747a3f580251",
   "metadata": {},
   "outputs": [],
   "source": [
    "id_dict = {}\n",
    "idx_dict = {}\n",
    "for i,row in df.iterrows():\n",
    "    idx_dict[i] = row['ID']\n",
    "    id_dict[row['ID']] = i\n",
    "def index_to_ID(x):\n",
    "    return idx_dict[x]\n",
    "def ID_to_index(id):\n",
    "    return id_dict[id]"
   ]
  },
  {
   "cell_type": "code",
   "execution_count": 5,
   "id": "d060cdda-38b8-4abb-bb11-b8d9c29269e4",
   "metadata": {},
   "outputs": [],
   "source": [
    "ret_model.build_index(list(df['Label']))\n",
    "def RET_model(taxo: Taxonomy, query: str, k=10):\n",
    "    topk = ret_model.search(query, top_k=k)\n",
    "    return [index_to_ID(i) for i,_,_ in topk]"
   ]
  },
  {
   "cell_type": "code",
   "execution_count": 6,
   "id": "0adce056-0c0e-46bb-a9db-443b8671b141",
   "metadata": {},
   "outputs": [],
   "source": [
    "def GEN_model(labels,prefix='summarize: '):\n",
    "    corpus = prefix\n",
    "    for l in labels:\n",
    "        corpus += l + '; '\n",
    "    corpus = corpus[:-2]\n",
    "    inputs = gen_tokenizer(corpus,return_tensors='pt').to(device)['input_ids']\n",
    "    outputs = gen_model.generate(inputs,max_length=64)[0]\n",
    "    decoded = gen_tokenizer.decode(outputs.cpu().numpy(),skip_special_tokens=True)\n",
    "    return decoded"
   ]
  },
  {
   "cell_type": "code",
   "execution_count": 7,
   "id": "15943f32-0b14-4f6c-9204-9affece1e2d6",
   "metadata": {},
   "outputs": [],
   "source": [
    "def SUB_model(sub: Union[str, List[str]], sup: Union[str, List[str]], batch_size :int=256):\n",
    "    if isinstance(sub, str):\n",
    "        sub, sup = [sub], [sup]\n",
    "    if len(sub) <= batch_size:\n",
    "        inputs = sub_tokenizer(sub,sup,padding=True,return_tensors='pt').to(device)\n",
    "        predictions = torch.softmax(sub_model(**inputs).logits.detach().cpu(),1)[:,1].numpy()\n",
    "    else:\n",
    "        head = (sub[:batch_size], sup[:batch_size])\n",
    "        tail = (sub[batch_size:],sup[batch_size:])\n",
    "        predictions = np.concatenate((SUB_model(head[0], head[1], batch_size=batch_size), SUB_model(tail[0], tail[1], batch_size=batch_size)))\n",
    "    return predictions"
   ]
  },
  {
   "cell_type": "code",
   "execution_count": 8,
   "id": "77fac59b-a9f5-4e24-a463-160967c6401b",
   "metadata": {
    "tags": []
   },
   "outputs": [
    {
     "data": {
      "application/vnd.jupyter.widget-view+json": {
       "model_id": "b77944c2cbe6441a9a0ced9ef3d330d0",
       "version_major": 2,
       "version_minor": 0
      },
      "text/plain": [
       "Loading lexical cache:   0%|          | 0/20334 [00:00<?, ?it/s]"
      ]
     },
     "metadata": {},
     "output_type": "display_data"
    }
   ],
   "source": [
    "kwargs = {'data': taxo,\n",
    "        'ret_model': RET_model,\n",
    "        'gen_model': GEN_model,\n",
    "        'sub_model': SUB_model,\n",
    "        'mode': 'manual',\n",
    "        'auto_bases': True,\n",
    "        'input_concepts': ['plastic round tubes', 'pipe wrenches', 'mixed lots', 'mountain lions', 'opticals', 'port expansion cards', 'eagles', 'drawer slides', 'steel drums', 'softballs'],\n",
    "        'restrict_combinations': False,\n",
    "        'retrieve_size': 5,\n",
    "        'threshold': 0.95,\n",
    "        'do_update': False,\n",
    "        'logging': True}\n",
    "\n",
    "newobj = ICON(**kwargs)"
   ]
  },
  {
   "cell_type": "code",
   "execution_count": 9,
   "id": "1baf83f8-74c2-4214-af6f-8b3aed46a3b1",
   "metadata": {
    "tags": []
   },
   "outputs": [],
   "source": [
    "# kwargs = {'data': taxo,\n",
    "#         'ret_model': RET_model,\n",
    "#         'gen_model': GEN_model,\n",
    "#         'sub_model': SUB_model,\n",
    "#         'mode': 'auto',\n",
    "#         'semiauto_seeds': [175781],\n",
    "#         'restrict_combinations': True,\n",
    "#         'retrieve_size': 2,\n",
    "#         'threshold': 0.9,\n",
    "#         'log': 1}\n",
    "\n",
    "# newobj = icon.ICON(**kwargs)"
   ]
  },
  {
   "cell_type": "code",
   "execution_count": 13,
   "id": "1e8edbac",
   "metadata": {},
   "outputs": [
    {
     "name": "stdout",
     "output_type": "stream",
     "text": [
      "Loaded Taxonomy with 20334 nodes and 20333 edges. Commencing enrichment\n"
     ]
    },
    {
     "data": {
      "application/vnd.jupyter.widget-view+json": {
       "model_id": "fd9dd89dd2f34ac59f56cf790e79e9d2",
       "version_major": 2,
       "version_minor": 0
      },
      "text/plain": [
       "  0%|          | 0/1 [00:00<?, ?it/s]"
      ]
     },
     "metadata": {},
     "output_type": "display_data"
    },
    {
     "name": "stdout",
     "output_type": "stream",
     "text": [
      "\tInput: \u001b[36m\u001b[1mplastic round tubes\u001b[0m\n",
      "\t\tSearch will be based on the following classes:\n",
      "\t\t\t\u001b[34m\u001b[1mIndustrial Liquid Filter Bags & Cartridges\u001b[0m\n",
      "\t\t\t\u001b[34m\u001b[1mStrut Channels\u001b[0m\n",
      "\t\t\t\u001b[34m\u001b[1mIndustrial Plastic Square Tubes\u001b[0m\n",
      "\t\t\t\u001b[34m\u001b[1mConduit & Tubing\u001b[0m\n",
      "\t\t\t\u001b[34m\u001b[1mIndustrial Fire Protection Equipment\u001b[0m\n",
      "\t\t\tSearching on a domain of 20 classes\n",
      "\t\t\tSearch complete. \u001b[32m\u001b[1mValidated\u001b[0m by lexical check\n",
      "\t\t\t\u001b[32m\u001b[1mAccepted\u001b[0m as a new class by search\n",
      "\tInput: \u001b[36m\u001b[1mpipe wrenches\u001b[0m\n",
      "\t\tSearch will be based on the following classes:\n",
      "\t\t\t\u001b[34m\u001b[1mPipe Wrenches\u001b[0m\n",
      "\t\t\t\u001b[34m\u001b[1mCommercial Pipe Wrenches\u001b[0m\n",
      "\t\t\t\u001b[34m\u001b[1mMetalworking Die Wrenches\u001b[0m\n",
      "\t\t\t\u001b[34m\u001b[1mTorque Wrenches\u001b[0m\n",
      "\t\t\t\u001b[34m\u001b[1mMetalworking Hand Reamers\u001b[0m\n",
      "\t\t\tSearching on a domain of 17 classes\n",
      "\t\t\tSearch complete. \u001b[33m\u001b[1mMapped\u001b[0m to a known class by lexical check\n",
      "\tInput: \u001b[36m\u001b[1mmixed lots\u001b[0m\n",
      "\t\tSearch will be based on the following classes:\n",
      "\t\t\t\u001b[34m\u001b[1mPakistan Coins\u001b[0m\n",
      "\t\t\t\u001b[34m\u001b[1mPepsi Pins, Badges & Patches\u001b[0m\n",
      "\t\t\t\u001b[34m\u001b[1mKorean Coins Mixed Lots\u001b[0m\n",
      "\t\t\t\u001b[34m\u001b[1mCollectible Pins & Buttons Wholesale Lots\u001b[0m\n",
      "\t\t\t\u001b[34m\u001b[1mInternational Souvenirs & Memorabilia Mixed Lots\u001b[0m\n",
      "\t\t\tSearching on a domain of 18 classes\n",
      "\t\t\tSearch complete. \u001b[32m\u001b[1mValidated\u001b[0m by lexical check\n",
      "\t\t\t\u001b[32m\u001b[1mAccepted\u001b[0m as a new class by search\n",
      "\tInput: \u001b[36m\u001b[1mmountain lions\u001b[0m\n",
      "\t\tSearch will be based on the following classes:\n",
      "\t\t\t\u001b[34m\u001b[1mRhodesian Ridgeback Collectibles\u001b[0m\n",
      "\t\t\t\u001b[34m\u001b[1mAffenpinscher Collectibles\u001b[0m\n",
      "\t\t\t\u001b[34m\u001b[1mSussex Spaniel Collectibles\u001b[0m\n",
      "\t\t\t\u001b[34m\u001b[1mAustralian Shepherd Collectibles\u001b[0m\n",
      "\t\t\t\u001b[34m\u001b[1mOtter Collectibles\u001b[0m\n",
      "\t\t\tSearching on a domain of 8 classes\n",
      "\t\t\tSearch complete. \u001b[32m\u001b[1mValidated\u001b[0m by lexical check\n",
      "\t\t\t\u001b[32m\u001b[1mAccepted\u001b[0m as a new class by search\n",
      "\tInput: \u001b[36m\u001b[1mopticals\u001b[0m\n",
      "\t\tSearch will be based on the following classes:\n",
      "\t\t\t\u001b[34m\u001b[1mBorescopes & Fiberscopes\u001b[0m\n",
      "\t\t\t\u001b[34m\u001b[1mMicroscope Eye Cups/Guards\u001b[0m\n",
      "\t\t\t\u001b[34m\u001b[1mPhoropters & Manual Refractors\u001b[0m\n",
      "\t\t\t\u001b[34m\u001b[1mOptical Time-Domain Reflectometers (OTDRs)\u001b[0m\n",
      "\t\t\t\u001b[34m\u001b[1mSpectrometers & Spectrophotometers\u001b[0m\n",
      "\t\t\tSearching on a domain of 13 classes\n",
      "\t\t\tSearch complete. \u001b[32m\u001b[1mValidated\u001b[0m by lexical check\n",
      "\t\t\t\u001b[32m\u001b[1mAccepted\u001b[0m as a new class by search\n",
      "\tInput: \u001b[36m\u001b[1mport expansion cards\u001b[0m\n",
      "\t\tSearch will be based on the following classes:\n",
      "\t\t\t\u001b[34m\u001b[1mInternal Sound Cards\u001b[0m\n",
      "\t\t\t\u001b[34m\u001b[1mTV Tuner & Video Capture Devices for Computers\u001b[0m\n",
      "\t\t\t\u001b[34m\u001b[1mModem Cards\u001b[0m\n",
      "\t\t\t\u001b[34m\u001b[1mOther Laptop Add-On Cards\u001b[0m\n",
      "\t\t\t\u001b[34m\u001b[1mPort Expansion Cards\u001b[0m\n",
      "\t\t\tSearching on a domain of 10 classes\n",
      "\t\t\tSearch complete. \u001b[33m\u001b[1mMapped\u001b[0m to a known class by lexical check\n",
      "\tInput: \u001b[36m\u001b[1meagles\u001b[0m\n",
      "\t\tSearch will be based on the following classes:\n",
      "\t\t\t\u001b[34m\u001b[1mPetit Basset Griffon Vendéen Collectibles\u001b[0m\n",
      "\t\t\t\u001b[34m\u001b[1mGoat Collectibles\u001b[0m\n",
      "\t\t\t\u001b[34m\u001b[1mDog Signs & Plaques\u001b[0m\n",
      "\t\t\t\u001b[34m\u001b[1mAmerican Bulldog Collectibles\u001b[0m\n",
      "\t\t\t\u001b[34m\u001b[1mBasset Hound Collectibles\u001b[0m\n",
      "\t\t\tSearching on a domain of 12 classes\n",
      "\t\t\tSearch complete. \u001b[32m\u001b[1mValidated\u001b[0m by lexical check\n",
      "\t\t\t\u001b[32m\u001b[1mAccepted\u001b[0m as a new class by search\n",
      "\tInput: \u001b[36m\u001b[1mdrawer slides\u001b[0m\n",
      "\t\tSearch will be based on the following classes:\n",
      "\t\t\t\u001b[34m\u001b[1mSlide Trays & Carousels\u001b[0m\n",
      "\t\t\t\u001b[34m\u001b[1mHome Projection Screens & Material\u001b[0m\n",
      "\t\t\t\u001b[34m\u001b[1mProjection Screens & Material\u001b[0m\n",
      "\t\t\t\u001b[34m\u001b[1mOther Slide & Movie Projection Equipment\u001b[0m\n",
      "\t\t\t\u001b[34m\u001b[1mSlide & Movie Projection Equipment\u001b[0m\n",
      "\t\t\tSearching on a domain of 12 classes\n",
      "\t\t\tSearch complete. \u001b[32m\u001b[1mValidated\u001b[0m by lexical check\n",
      "\t\t\t\u001b[32m\u001b[1mAccepted\u001b[0m as a new class by search\n",
      "\tInput: \u001b[36m\u001b[1msteel drums\u001b[0m\n",
      "\t\tSearch will be based on the following classes:\n",
      "\t\t\t\u001b[34m\u001b[1mDholaks\u001b[0m\n",
      "\t\t\t\u001b[34m\u001b[1mVintage Singing Bowls\u001b[0m\n",
      "\t\t\t\u001b[34m\u001b[1mTimpani\u001b[0m\n",
      "\t\t\t\u001b[34m\u001b[1mTamboras\u001b[0m\n",
      "\t\t\t\u001b[34m\u001b[1mVintage Drums\u001b[0m\n",
      "\t\t\tSearching on a domain of 12 classes\n",
      "\t\t\tSearch complete. \u001b[33m\u001b[1mMapped\u001b[0m to a known class by lexical check\n",
      "\tInput: \u001b[36m\u001b[1msoftballs\u001b[0m\n",
      "\t\tSearch will be based on the following classes:\n",
      "\t\t\t\u001b[34m\u001b[1mIce & Roller Hockey Helmets\u001b[0m\n",
      "\t\t\t\u001b[34m\u001b[1mOther Billiard Balls\u001b[0m\n",
      "\t\t\t\u001b[34m\u001b[1mNCAA Autographed Football Helmets\u001b[0m\n",
      "\t\t\t\u001b[34m\u001b[1mBilliard Balls\u001b[0m\n",
      "\t\t\t\u001b[34m\u001b[1mNFL Autographed Football Helmets\u001b[0m\n",
      "\t\t\tSearching on a domain of 17 classes\n",
      "\t\t\tSearch complete. \u001b[33m\u001b[1mMapped\u001b[0m to a known class by lexical check\n",
      "Enrichment complete. Begin post-processing with transitive reduction\n",
      "Return ICON predictions\n"
     ]
    }
   ],
   "source": [
    "outputs = newobj.run()\n",
    "# 258229\n",
    "# 259304\n",
    "# 258246\n",
    "# 117489\n",
    "# 57017"
   ]
  },
  {
   "cell_type": "code",
   "execution_count": 14,
   "id": "23ebfd5d",
   "metadata": {},
   "outputs": [
    {
     "data": {
      "text/plain": [
       "{'plastic round tubes': {'equivalent': {},\n",
       "  'superclass': {159907: 0.9668843150138855, 258237: 0.9942305088043213},\n",
       "  'subclass': {}},\n",
       " 'pipe wrenches': {'equivalent': {20772: 1.0},\n",
       "  'superclass': {184042: 0.9966223239898682},\n",
       "  'subclass': {}},\n",
       " 'mixed lots': {'equivalent': {},\n",
       "  'superclass': {1: 0.98820960521698},\n",
       "  'subclass': {173689: 0.9940920472145081, 165874: 0.9850807785987854}},\n",
       " 'mountain lions': {'equivalent': {},\n",
       "  'superclass': {45602: 0.95676189661026},\n",
       "  'subclass': {}},\n",
       " 'opticals': {'equivalent': {},\n",
       "  'superclass': {184520: 0.9893686175346375, 181939: 0.9912620782852173},\n",
       "  'subclass': {181977: 0.9958683252334595, 185276: 0.9775476455688477}},\n",
       " 'port expansion cards': {'equivalent': {90718: 1.0},\n",
       "  'superclass': {31530: 0.982629656791687},\n",
       "  'subclass': {}},\n",
       " 'eagles': {'equivalent': {},\n",
       "  'superclass': {1335: 0.9994112253189087},\n",
       "  'subclass': {}},\n",
       " 'drawer slides': {'equivalent': {},\n",
       "  'superclass': {69323: 0.9545655250549316},\n",
       "  'subclass': {}},\n",
       " 'steel drums': {'equivalent': {181239: 1.0},\n",
       "  'superclass': {181249: 0.9920896291732788, 181228: 0.9993190765380859},\n",
       "  'subclass': {}},\n",
       " 'softballs': {'equivalent': {16064: 1.0},\n",
       "  'superclass': {159049: 0.9992623925209045, 36274: 0.9918432831764221},\n",
       "  'subclass': {}}}"
      ]
     },
     "execution_count": 14,
     "metadata": {},
     "output_type": "execute_result"
    }
   ],
   "source": [
    "outputs"
   ]
  }
 ],
 "metadata": {
  "kernelspec": {
   "display_name": "Python 3 (ipykernel)",
   "language": "python",
   "name": "python3"
  },
  "language_info": {
   "codemirror_mode": {
    "name": "ipython",
    "version": 3
   },
   "file_extension": ".py",
   "mimetype": "text/x-python",
   "name": "python",
   "nbconvert_exporter": "python",
   "pygments_lexer": "ipython3",
   "version": "3.8.18"
  }
 },
 "nbformat": 4,
 "nbformat_minor": 5
}
