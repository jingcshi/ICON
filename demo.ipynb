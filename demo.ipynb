{
 "cells": [
  {
   "cell_type": "code",
   "execution_count": 1,
   "id": "d10dff60-49d0-47a6-828c-937eec5a79b7",
   "metadata": {},
   "outputs": [
    {
     "name": "stderr",
     "output_type": "stream",
     "text": [
      "\n",
      "Warning: SQLite3 version 3.40.0 and 3.41.2 have huge performance regressions; please install version 3.41.1 or 3.42!\n",
      "\n"
     ]
    }
   ],
   "source": [
    "from typing import List, Union\n",
    "import torch\n",
    "import pandas as pd\n",
    "import numpy as np\n",
    "from simcse import SimCSE\n",
    "from transformers import BertForSequenceClassification, AutoModelForSeq2SeqLM, BertTokenizer, AutoTokenizer\n",
    "from utils import taxo_utils\n",
    "from utils.taxo_utils import Taxonomy\n",
    "from main.icon import ICON"
   ]
  },
  {
   "cell_type": "code",
   "execution_count": 2,
   "id": "e495a24e-6126-4bb4-907b-aefbdce9c0d2",
   "metadata": {
    "tags": []
   },
   "outputs": [],
   "source": [
    "device = 'cuda' if torch.cuda.is_available() else 'cpu'\n",
    "ret_model = SimCSE('/data2T/jingchuan/tuned/ret/entity_type_tuned_sota/',device=device)\n",
    "gen_model = AutoModelForSeq2SeqLM.from_pretrained('/data2T/jingchuan/tuned/gen/flan-t5-sota/').to(device)\n",
    "gen_tokenizer = AutoTokenizer.from_pretrained('/data2T/jingchuan/tuned/gen/flan-t5-sota/')\n",
    "sub_model = BertForSequenceClassification.from_pretrained('/data2T/jingchuan/tuned/sub/bertsubs-sota/').to(device)\n",
    "sub_tokenizer = BertTokenizer.from_pretrained('/data2T/jingchuan/tuned/sub/bertsubs-sota/',model_max_length=128)"
   ]
  },
  {
   "cell_type": "code",
   "execution_count": 3,
   "id": "1edbdea1-25a3-4000-b687-c91029617976",
   "metadata": {
    "tags": []
   },
   "outputs": [],
   "source": [
    "taxo = taxo_utils.from_json('./data/raw/ebay_us.json')\n",
    "df = pd.DataFrame(taxo.nodes(data='label'),columns=['ID','Label']).drop(0).reset_index(drop=True)"
   ]
  },
  {
   "cell_type": "code",
   "execution_count": 4,
   "id": "ecc1afbb-18cc-453b-b787-747a3f580251",
   "metadata": {},
   "outputs": [],
   "source": [
    "id_dict = {}\n",
    "idx_dict = {}\n",
    "for i,row in df.iterrows():\n",
    "    idx_dict[i] = row['ID']\n",
    "    id_dict[row['ID']] = i\n",
    "def index_to_ID(x):\n",
    "    return idx_dict[x]\n",
    "def ID_to_index(id):\n",
    "    return id_dict[id]"
   ]
  },
  {
   "cell_type": "code",
   "execution_count": 12,
   "id": "d060cdda-38b8-4abb-bb11-b8d9c29269e4",
   "metadata": {},
   "outputs": [],
   "source": [
    "ret_model.build_index(list(df['Label']))\n",
    "class RET_model(taxo: Taxonomy, query: str, k=10):\n",
    "    topk = ret_model.search(query, top_k=k)\n",
    "    return [index_to_ID(i) for i,_,_ in topk]"
   ]
  },
  {
   "cell_type": "code",
   "execution_count": 6,
   "id": "0adce056-0c0e-46bb-a9db-443b8671b141",
   "metadata": {},
   "outputs": [],
   "source": [
    "def GEN_model(labels,prefix='summarize: '):\n",
    "    corpus = prefix\n",
    "    for l in labels:\n",
    "        corpus += l + '; '\n",
    "    corpus = corpus[:-2]\n",
    "    inputs = gen_tokenizer(corpus,return_tensors='pt').to(device)['input_ids']\n",
    "    outputs = gen_model.generate(inputs,max_length=64)[0]\n",
    "    decoded = gen_tokenizer.decode(outputs.cpu().numpy(),skip_special_tokens=True)\n",
    "    return decoded"
   ]
  },
  {
   "cell_type": "code",
   "execution_count": 7,
   "id": "15943f32-0b14-4f6c-9204-9affece1e2d6",
   "metadata": {},
   "outputs": [],
   "source": [
    "def SUB_model(sub: Union[str, List[str]], sup: Union[str, List[str]], batch_size :int=256):\n",
    "    if isinstance(sub, str):\n",
    "        sub, sup = [sub], [sup]\n",
    "    if len(sub) <= batch_size:\n",
    "        inputs = sub_tokenizer(sub,sup,padding=True,return_tensors='pt').to(device)\n",
    "        predictions = torch.softmax(sub_model(**inputs).logits.detach().cpu(),1)[:,1].numpy()\n",
    "    else:\n",
    "        head = (sub[:batch_size], sup[:batch_size])\n",
    "        tail = (sub[batch_size:],sup[batch_size:])\n",
    "        predictions = np.concatenate((SUB_model(head[0], head[1], batch_size=batch_size), SUB_model(tail[0], tail[1], batch_size=batch_size)))\n",
    "    return predictions"
   ]
  },
  {
   "cell_type": "code",
   "execution_count": 8,
   "id": "77fac59b-a9f5-4e24-a463-160967c6401b",
   "metadata": {
    "tags": []
   },
   "outputs": [
    {
     "data": {
      "application/vnd.jupyter.widget-view+json": {
       "model_id": "c5fbc9541d4447dc9adc427538d19586",
       "version_major": 2,
       "version_minor": 0
      },
      "text/plain": [
       "Loading lexical cache:   0%|          | 0/20334 [00:00<?, ?it/s]"
      ]
     },
     "metadata": {},
     "output_type": "display_data"
    }
   ],
   "source": [
    "kwargs = {'data': taxo,\n",
    "        'ret_model': RET_model,\n",
    "        'gen_model': GEN_model,\n",
    "        'sub_model': SUB_model,\n",
    "        'mode': 'manual',\n",
    "        'auto_bases': True,\n",
    "        'input_concepts': ['plastic round tubes', 'pipe wrenches', 'mixed lots', 'mountain lions', 'opticals', 'port expansion cards', 'eagles', 'drawer slides', 'steel drums', 'softballs'],\n",
    "        'restrict_combinations': False,\n",
    "        'retrieve_size': 5,\n",
    "        'threshold': 0.95,\n",
    "        'do_update': False}\n",
    "\n",
    "newobj = ICON(**kwargs)"
   ]
  },
  {
   "cell_type": "code",
   "execution_count": 9,
   "id": "1baf83f8-74c2-4214-af6f-8b3aed46a3b1",
   "metadata": {
    "tags": []
   },
   "outputs": [],
   "source": [
    "# kwargs = {'data': taxo,\n",
    "#         'ret_model': RET_model,\n",
    "#         'gen_model': GEN_model,\n",
    "#         'sub_model': SUB_model,\n",
    "#         'mode': 'auto',\n",
    "#         'semiauto_seeds': [175781],\n",
    "#         'restrict_combinations': True,\n",
    "#         'retrieve_size': 2,\n",
    "#         'threshold': 0.9,\n",
    "#         'log': 1}\n",
    "\n",
    "# newobj = icon.ICON(**kwargs)"
   ]
  },
  {
   "cell_type": "code",
   "execution_count": 10,
   "id": "1e8edbac",
   "metadata": {},
   "outputs": [
    {
     "name": "stdout",
     "output_type": "stream",
     "text": [
      "Loaded Taxonomy with 20334 nodes and 20333 edges. Commencing enrichment\n"
     ]
    },
    {
     "data": {
      "application/vnd.jupyter.widget-view+json": {
       "model_id": "6d6e8ee4ee3f401aacc18e028334d056",
       "version_major": 2,
       "version_minor": 0
      },
      "text/plain": [
       "  0%|          | 0/1 [00:00<?, ?it/s]"
      ]
     },
     "metadata": {},
     "output_type": "display_data"
    },
    {
     "name": "stdout",
     "output_type": "stream",
     "text": [
      "Enrichment complete. Begin post-processing with transitive reduction\n",
      "Return ICON predictions\n"
     ]
    }
   ],
   "source": [
    "outputs = newobj.run()"
   ]
  },
  {
   "cell_type": "code",
   "execution_count": 11,
   "id": "75400f7e",
   "metadata": {},
   "outputs": [
    {
     "data": {
      "text/plain": [
       "{'plastic round tubes': {'equivalent': {258242: (0.9989275336265564,\n",
       "    0.999014139175415)},\n",
       "  'superclass': {160704: 0.9884874820709229,\n",
       "   257824: 0.9656429886817932,\n",
       "   11874: 0.9817126393318176,\n",
       "   14308: 0.9655066728591919,\n",
       "   26221: 0.992567777633667,\n",
       "   20625: 0.9542515873908997,\n",
       "   3187: 0.9875780940055847,\n",
       "   160667: 0.9778825640678406},\n",
       "  'subclass': {}},\n",
       " 'pipe wrenches': {'equivalent': {20772: (1.0, 1.0)},\n",
       "  'superclass': {183978: 0.9952627420425415,\n",
       "   184042: 0.9966223239898682,\n",
       "   46576: 0.9830930233001709,\n",
       "   42622: 0.9626042246818542},\n",
       "  'subclass': {}},\n",
       " 'mixed lots': {'equivalent': {},\n",
       "  'superclass': {1: 0.9882097244262695, 11700: 0.9958816766738892},\n",
       "  'subclass': {32772: 0.9848905205726624,\n",
       "   262022: 0.9989845156669617,\n",
       "   527: 0.9930685758590698,\n",
       "   529: 0.9889154434204102,\n",
       "   260629: 0.9916552305221558,\n",
       "   173690: 0.9922962784767151,\n",
       "   3356: 0.9943913817405701,\n",
       "   183455: 0.9864705204963684,\n",
       "   260000: 0.9683923721313477,\n",
       "   45089: 0.9923934936523438,\n",
       "   175649: 0.9982767105102539,\n",
       "   36009: 0.9928723573684692,\n",
       "   149931: 0.9836297631263733,\n",
       "   175663: 0.9885348677635193,\n",
       "   149946: 0.9977927207946777,\n",
       "   48827: 0.9901164174079895,\n",
       "   158780: 0.9792417883872986,\n",
       "   176958: 0.9982532858848572,\n",
       "   176959: 0.9983226656913757,\n",
       "   176960: 0.9965920448303223,\n",
       "   176961: 0.9860296845436096,\n",
       "   176962: 0.9966597557067871,\n",
       "   260034: 0.9982982277870178,\n",
       "   176965: 0.9854296445846558,\n",
       "   163271: 0.9955872297286987,\n",
       "   73547: 0.9972901344299316,\n",
       "   37964: 0.9917545318603516,\n",
       "   165580: 0.9879310131072998,\n",
       "   11985: 0.9947804808616638,\n",
       "   20189: 0.9959981441497803,\n",
       "   165854: 0.9650055766105652,\n",
       "   40034: 0.9979408383369446,\n",
       "   44004: 0.9846199154853821,\n",
       "   105444: 0.9921682476997375,\n",
       "   21094: 0.9985902905464172,\n",
       "   165991: 0.9870575070381165,\n",
       "   179964: 0.970176637172699,\n",
       "   14057: 0.9930233955383301,\n",
       "   163054: 0.9909204244613647,\n",
       "   259696: 0.9889097809791565,\n",
       "   165874: 0.9850806593894958,\n",
       "   173683: 0.9925854802131653,\n",
       "   259701: 0.9986419081687927,\n",
       "   173686: 0.9857096672058105,\n",
       "   173687: 0.9979342222213745,\n",
       "   173688: 0.9959806203842163,\n",
       "   173689: 0.9940920472145081,\n",
       "   49018: 0.9690320491790771,\n",
       "   173692: 0.9933551549911499,\n",
       "   173694: 0.9889377355575562,\n",
       "   165247: 0.9838968515396118}},\n",
       " 'mountain lions': {'equivalent': {},\n",
       "  'superclass': {417: 0.9985951781272888,\n",
       "   45602: 0.95676189661026,\n",
       "   159043: 0.9818891286849976,\n",
       "   7301: 0.9564169645309448,\n",
       "   10888: 0.9946256279945374,\n",
       "   3913: 0.970416247844696,\n",
       "   3213: 0.9727858901023865,\n",
       "   165307: 0.9990947246551514,\n",
       "   259135: 0.976496160030365},\n",
       "  'subclass': {}},\n",
       " 'opticals': {'equivalent': {},\n",
       "  'superclass': {185284: 0.9691242575645447,\n",
       "   184520: 0.9893686175346375,\n",
       "   58058: 0.9752224683761597,\n",
       "   619: 0.9534316062927246,\n",
       "   92074: 0.9886823892593384,\n",
       "   625: 0.9977668523788452,\n",
       "   14961: 0.9501696825027466,\n",
       "   181939: 0.9912620782852173,\n",
       "   11700: 0.993465006351471},\n",
       "  'subclass': {185219: 0.97773277759552,\n",
       "   66827: 0.9598581194877625,\n",
       "   185241: 0.9597780704498291,\n",
       "   64043: 0.9881097078323364,\n",
       "   181804: 0.9697185754776001,\n",
       "   74927: 0.9735497236251831,\n",
       "   26418: 0.9544258117675781,\n",
       "   156467: 0.9989942908287048,\n",
       "   3636: 0.9540060758590698,\n",
       "   185267: 0.9919050931930542,\n",
       "   185268: 0.9886322617530823,\n",
       "   185269: 0.9860726594924927,\n",
       "   185275: 0.9842019081115723,\n",
       "   185276: 0.9775475263595581,\n",
       "   185277: 0.9623388648033142,\n",
       "   185278: 0.984043538570404,\n",
       "   185279: 0.9718100428581238,\n",
       "   185281: 0.9758795499801636,\n",
       "   63942: 0.9840124845504761,\n",
       "   179910: 0.9597548842430115,\n",
       "   257870: 0.987953782081604,\n",
       "   258264: 0.9615944623947144,\n",
       "   181977: 0.9958683252334595,\n",
       "   163034: 0.9994654059410095,\n",
       "   104035: 0.9757663011550903,\n",
       "   65511: 0.9775719046592712,\n",
       "   14954: 0.9748274087905884,\n",
       "   158444: 0.9994540810585022,\n",
       "   185196: 0.9746342897415161,\n",
       "   185203: 0.9680793285369873,\n",
       "   55807: 0.9754772782325745}},\n",
       " 'port expansion cards': {'equivalent': {90718: (1.0, 1.0)},\n",
       "  'superclass': {11176: 0.9836671352386475,\n",
       "   31530: 0.982629656791687,\n",
       "   92074: 0.9961463212966919,\n",
       "   14961: 0.9534955620765686,\n",
       "   50203: 0.9820939898490906,\n",
       "   58271: 0.962705671787262},\n",
       "  'subclass': {42323: 0.99024498462677}},\n",
       " 'eagles': {'equivalent': {13627: (0.9994660019874573, 0.9953096508979797)},\n",
       "  'superclass': {14049: 0.9987984895706177,\n",
       "   64482: 0.9733757972717285,\n",
       "   159043: 0.9940298795700073,\n",
       "   13956: 0.9980054497718811,\n",
       "   7301: 0.9981158971786499,\n",
       "   45604: 0.9769886136054993,\n",
       "   165541: 0.9804630875587463,\n",
       "   159049: 0.9953910112380981,\n",
       "   6000: 0.9996019005775452,\n",
       "   11700: 0.9779451489448547,\n",
       "   253: 0.9872798919677734,\n",
       "   108765: 0.9994111061096191},\n",
       "  'subclass': {33005: 0.9995148181915283}},\n",
       " 'drawer slides': {'equivalent': {},\n",
       "  'superclass': {69323: 0.9545655250549316,\n",
       "   57004: 0.9734526872634888,\n",
       "   3187: 0.9987591505050659,\n",
       "   631: 0.9795803427696228,\n",
       "   36344: 0.9902338981628418,\n",
       "   45017: 0.9587885737419128,\n",
       "   160667: 0.964464008808136,\n",
       "   3197: 0.9929788708686829},\n",
       "  'subclass': {}},\n",
       " 'steel drums': {'equivalent': {181239: (1.0, 1.0)},\n",
       "  'superclass': {181249: 0.9920896291732788,\n",
       "   181282: 0.9979349374771118,\n",
       "   159043: 0.9607794880867004,\n",
       "   181227: 0.9977793097496033,\n",
       "   2329: 0.9988827109336853,\n",
       "   220: 0.9784142971038818},\n",
       "  'subclass': {}},\n",
       " 'softballs': {'equivalent': {16064: (1.0, 1.0)},\n",
       "  'superclass': {12576: 0.978640079498291,\n",
       "   159043: 0.9953546524047852,\n",
       "   19017: 0.9738154411315918,\n",
       "   233: 0.9524718523025513,\n",
       "   15273: 0.9899179339408875,\n",
       "   180012: 0.9880715608596802,\n",
       "   36274: 0.9918432831764221,\n",
       "   11700: 0.9762465357780457,\n",
       "   16021: 0.9763578772544861,\n",
       "   145978: 0.9957036375999451},\n",
       "  'subclass': {}}}"
      ]
     },
     "execution_count": 11,
     "metadata": {},
     "output_type": "execute_result"
    }
   ],
   "source": [
    "outputs"
   ]
  }
 ],
 "metadata": {
  "kernelspec": {
   "display_name": "Python 3 (ipykernel)",
   "language": "python",
   "name": "python3"
  },
  "language_info": {
   "codemirror_mode": {
    "name": "ipython",
    "version": 3
   },
   "file_extension": ".py",
   "mimetype": "text/x-python",
   "name": "python",
   "nbconvert_exporter": "python",
   "pygments_lexer": "ipython3",
   "version": "3.8.18"
  }
 },
 "nbformat": 4,
 "nbformat_minor": 5
}
