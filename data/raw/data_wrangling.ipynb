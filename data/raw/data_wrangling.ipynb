{
 "cells": [
  {
   "cell_type": "code",
   "execution_count": 1,
   "id": "8c616505-8374-4b2c-ad2b-5a8cd396b5d5",
   "metadata": {},
   "outputs": [],
   "source": [
    "import os\n",
    "import sys\n",
    "sys.path.append(os.getcwd() + '/..')\n",
    "sys.path.append(os.getcwd() + '/../..')\n",
    "import re\n",
    "import types\n",
    "from tqdm.notebook import tqdm\n",
    "from typing import List, Union, Tuple, Callable\n",
    "import pandas as pd\n",
    "import numpy as np\n",
    "import owlready2 as o2\n",
    "from utils import breadcrumb as bc"
   ]
  },
  {
   "cell_type": "code",
   "execution_count": 2,
   "id": "b8ce2791",
   "metadata": {},
   "outputs": [],
   "source": [
    "with open ('./taxonomy-with-ids.en-US.txt') as inf:\n",
    "    f = inf.readlines()\n",
    "reID = re.compile(r'^(\\d+) -.*$')\n",
    "rePath = re.compile(r'^\\d+ - (.*)\\n$')\n"
   ]
  },
  {
   "cell_type": "code",
   "execution_count": 3,
   "id": "e8381cee",
   "metadata": {},
   "outputs": [],
   "source": [
    "label_id_map = {}\n",
    "id_label_map = {}\n",
    "categories = {'catid':[],'strpath':[],'label':[]}\n",
    "for line in f:\n",
    "    catid = int(re.findall(reID,line)[0])\n",
    "    strpath = re.findall(rePath,line)[0].split(' > ')\n",
    "    categories['catid'].append(catid)\n",
    "    categories['strpath'].append(strpath)\n",
    "    label = categories['strpath'][-1][-1]\n",
    "    categories['label'].append(label)\n",
    "    label_id_map[label] = catid\n",
    "    id_label_map[catid] = label\n"
   ]
  },
  {
   "cell_type": "code",
   "execution_count": 4,
   "id": "abed9986",
   "metadata": {},
   "outputs": [],
   "source": [
    "def label_2_catid(label):\n",
    "    return label_id_map[label]\n",
    "\n",
    "def catid_2_label(catid):\n",
    "    return id_label_map[catid]\n",
    "\n",
    "def strpath_2_idpath(path):\n",
    "    return list(map(label_2_catid,path))"
   ]
  },
  {
   "cell_type": "code",
   "execution_count": 5,
   "id": "9553da46",
   "metadata": {},
   "outputs": [
    {
     "data": {
      "text/html": [
       "<div>\n",
       "<style scoped>\n",
       "    .dataframe tbody tr th:only-of-type {\n",
       "        vertical-align: middle;\n",
       "    }\n",
       "\n",
       "    .dataframe tbody tr th {\n",
       "        vertical-align: top;\n",
       "    }\n",
       "\n",
       "    .dataframe thead th {\n",
       "        text-align: right;\n",
       "    }\n",
       "</style>\n",
       "<table border=\"1\" class=\"dataframe\">\n",
       "  <thead>\n",
       "    <tr style=\"text-align: right;\">\n",
       "      <th></th>\n",
       "      <th>strpath</th>\n",
       "      <th>label</th>\n",
       "      <th>path</th>\n",
       "    </tr>\n",
       "    <tr>\n",
       "      <th>catid</th>\n",
       "      <th></th>\n",
       "      <th></th>\n",
       "      <th></th>\n",
       "    </tr>\n",
       "  </thead>\n",
       "  <tbody>\n",
       "    <tr>\n",
       "      <th>1</th>\n",
       "      <td>[Animals &amp; Pet Supplies]</td>\n",
       "      <td>Animals &amp; Pet Supplies</td>\n",
       "      <td>[1]</td>\n",
       "    </tr>\n",
       "    <tr>\n",
       "      <th>3237</th>\n",
       "      <td>[Animals &amp; Pet Supplies, Live Animals]</td>\n",
       "      <td>Live Animals</td>\n",
       "      <td>[1, 3237]</td>\n",
       "    </tr>\n",
       "    <tr>\n",
       "      <th>2</th>\n",
       "      <td>[Animals &amp; Pet Supplies, Pet Supplies]</td>\n",
       "      <td>Pet Supplies</td>\n",
       "      <td>[1, 2]</td>\n",
       "    </tr>\n",
       "    <tr>\n",
       "      <th>3</th>\n",
       "      <td>[Animals &amp; Pet Supplies, Pet Supplies, Bird Su...</td>\n",
       "      <td>Bird Supplies</td>\n",
       "      <td>[1, 2, 3]</td>\n",
       "    </tr>\n",
       "    <tr>\n",
       "      <th>7385</th>\n",
       "      <td>[Animals &amp; Pet Supplies, Pet Supplies, Bird Su...</td>\n",
       "      <td>Bird Cage Accessories</td>\n",
       "      <td>[1, 2, 3, 7385]</td>\n",
       "    </tr>\n",
       "    <tr>\n",
       "      <th>...</th>\n",
       "      <td>...</td>\n",
       "      <td>...</td>\n",
       "      <td>...</td>\n",
       "    </tr>\n",
       "    <tr>\n",
       "      <th>3540</th>\n",
       "      <td>[Vehicles &amp; Parts, Vehicles, Watercraft]</td>\n",
       "      <td>Watercraft</td>\n",
       "      <td>[888, 5614, 3540]</td>\n",
       "    </tr>\n",
       "    <tr>\n",
       "      <th>3095</th>\n",
       "      <td>[Vehicles &amp; Parts, Vehicles, Watercraft, Motor...</td>\n",
       "      <td>Motor Boats</td>\n",
       "      <td>[888, 5614, 3540, 3095]</td>\n",
       "    </tr>\n",
       "    <tr>\n",
       "      <th>1130</th>\n",
       "      <td>[Vehicles &amp; Parts, Vehicles, Watercraft, Perso...</td>\n",
       "      <td>Personal Watercraft</td>\n",
       "      <td>[888, 5614, 3540, 1130]</td>\n",
       "    </tr>\n",
       "    <tr>\n",
       "      <th>3087</th>\n",
       "      <td>[Vehicles &amp; Parts, Vehicles, Watercraft, Sailb...</td>\n",
       "      <td>Sailboats</td>\n",
       "      <td>[888, 5614, 3540, 3087]</td>\n",
       "    </tr>\n",
       "    <tr>\n",
       "      <th>5644</th>\n",
       "      <td>[Vehicles &amp; Parts, Vehicles, Watercraft, Yachts]</td>\n",
       "      <td>Yachts</td>\n",
       "      <td>[888, 5614, 3540, 5644]</td>\n",
       "    </tr>\n",
       "  </tbody>\n",
       "</table>\n",
       "<p>5595 rows × 3 columns</p>\n",
       "</div>"
      ],
      "text/plain": [
       "                                                 strpath  \\\n",
       "catid                                                      \n",
       "1                               [Animals & Pet Supplies]   \n",
       "3237              [Animals & Pet Supplies, Live Animals]   \n",
       "2                 [Animals & Pet Supplies, Pet Supplies]   \n",
       "3      [Animals & Pet Supplies, Pet Supplies, Bird Su...   \n",
       "7385   [Animals & Pet Supplies, Pet Supplies, Bird Su...   \n",
       "...                                                  ...   \n",
       "3540            [Vehicles & Parts, Vehicles, Watercraft]   \n",
       "3095   [Vehicles & Parts, Vehicles, Watercraft, Motor...   \n",
       "1130   [Vehicles & Parts, Vehicles, Watercraft, Perso...   \n",
       "3087   [Vehicles & Parts, Vehicles, Watercraft, Sailb...   \n",
       "5644    [Vehicles & Parts, Vehicles, Watercraft, Yachts]   \n",
       "\n",
       "                        label                     path  \n",
       "catid                                                   \n",
       "1      Animals & Pet Supplies                      [1]  \n",
       "3237             Live Animals                [1, 3237]  \n",
       "2                Pet Supplies                   [1, 2]  \n",
       "3               Bird Supplies                [1, 2, 3]  \n",
       "7385    Bird Cage Accessories          [1, 2, 3, 7385]  \n",
       "...                       ...                      ...  \n",
       "3540               Watercraft        [888, 5614, 3540]  \n",
       "3095              Motor Boats  [888, 5614, 3540, 3095]  \n",
       "1130      Personal Watercraft  [888, 5614, 3540, 1130]  \n",
       "3087                Sailboats  [888, 5614, 3540, 3087]  \n",
       "5644                   Yachts  [888, 5614, 3540, 5644]  \n",
       "\n",
       "[5595 rows x 3 columns]"
      ]
     },
     "execution_count": 5,
     "metadata": {},
     "output_type": "execute_result"
    }
   ],
   "source": [
    "categories['path'] = list(map(strpath_2_idpath,categories['strpath']))\n",
    "df = pd.DataFrame(categories)\n",
    "df = df.set_index('catid')\n",
    "df"
   ]
  },
  {
   "cell_type": "code",
   "execution_count": 7,
   "id": "c2fecab1",
   "metadata": {},
   "outputs": [
    {
     "data": {
      "application/vnd.jupyter.widget-view+json": {
       "model_id": "e6c0e44da2ae451f94b60cb3698d5f1d",
       "version_major": 2,
       "version_minor": 0
      },
      "text/plain": [
       "  0%|          | 0/5595 [00:00<?, ?it/s]"
      ]
     },
     "metadata": {},
     "output_type": "display_data"
    }
   ],
   "source": [
    "ontology = o2.get_ontology(\"http://ebay.com/google_pt_taxonomy/20231030.owl\")\n",
    "\n",
    "def create_new_class(data, onto, catid):\n",
    "    category = data.loc[catid]\n",
    "    catid = category.name\n",
    "    label = category['label']\n",
    "    path = category['path']\n",
    "    l1 = category['strpath'][0]\n",
    "    strpath = l1 + f' ({str(label_2_catid(l1))})'\n",
    "    if len(category['strpath']) > 1:\n",
    "        for cat in category['strpath'][1:]:\n",
    "            strpath += f' > {cat} ({str(label_2_catid(cat))})'\n",
    "    with onto:\n",
    "        if len(path) == 1:\n",
    "            parentclass = o2.Thing\n",
    "        else:\n",
    "            parent = path[-2]\n",
    "            parentclass = onto[str(parent)]\n",
    "        if not parentclass:\n",
    "            parentclass = create_new_class(data, onto, parent)\n",
    "        NewClass = types.new_class(str(catid), (parentclass,))\n",
    "        NewClass.label = str(label)\n",
    "        NewClass.catid = int(catid)\n",
    "        NewClass.path = strpath\n",
    "    return NewClass\n",
    "\n",
    "with ontology:\n",
    "    class catid(o2.AnnotationProperty):\n",
    "        pass\n",
    "\n",
    "    class path(o2.AnnotationProperty):\n",
    "        pass\n",
    "\n",
    "with tqdm(total = len(df)) as pbar:\n",
    "    for i,row in df.iterrows():\n",
    "        if not ontology[str(row.name)]:\n",
    "            create_new_class(df, ontology, row.name)\n",
    "        pbar.update(1)"
   ]
  },
  {
   "cell_type": "code",
   "execution_count": 9,
   "id": "0d81cc41",
   "metadata": {},
   "outputs": [],
   "source": [
    "ontology.save(file = \"./google_pt_taxonomy_1030.owl\")"
   ]
  },
  {
   "cell_type": "code",
   "execution_count": 2,
   "id": "d8c82ce6-2943-4e7f-a55a-1c008dfc9ab4",
   "metadata": {},
   "outputs": [],
   "source": [
    "df = pd.read_csv('./2023_May_SR_Structures.txt', sep='\\t')\n",
    "cfn = pd.concat([pd.read_csv('./Category_Friendly_Name_Full_Data_data.csv'),pd.read_csv('./Category_Friendly_Name_data (1).csv')])"
   ]
  },
  {
   "cell_type": "code",
   "execution_count": 3,
   "id": "2b6f855c-aedb-4fc4-ab27-aa9c78b938e3",
   "metadata": {},
   "outputs": [],
   "source": [
    "df_usmo = df[df['site'].isin([0,100])]\n",
    "df_usmo = df_usmo[['Cat ID','Breadcrumb']]\n",
    "df_usmo = df_usmo.set_index('Cat ID')"
   ]
  },
  {
   "cell_type": "code",
   "execution_count": 4,
   "id": "0fe54717-c6eb-4336-b925-fb980dad14fc",
   "metadata": {},
   "outputs": [],
   "source": [
    "cfn = cfn[['Cat ID','Category Friendly Name']]\n",
    "cfn = cfn.set_index('Cat ID')"
   ]
  },
  {
   "cell_type": "code",
   "execution_count": 7,
   "id": "f857bd73-a131-4591-82b8-f369bea4890b",
   "metadata": {},
   "outputs": [],
   "source": [
    "data = pd.concat([df_usmo,cfn],axis=1).dropna()\n",
    "data['Path'] = data['Breadcrumb'].apply(lambda x: bc.normalise_breadcrumb(x, link='id'))"
   ]
  },
  {
   "cell_type": "code",
   "execution_count": 8,
   "id": "bfface02-7faf-4d22-8d43-09d08fdc13c0",
   "metadata": {},
   "outputs": [],
   "source": [
    "data = data.rename(columns={'Category Friendly Name': 'Label'})"
   ]
  },
  {
   "cell_type": "code",
   "execution_count": 12,
   "id": "746cf917-10d4-42aa-9a3d-6d1d8c454f85",
   "metadata": {},
   "outputs": [],
   "source": [
    "data.drop('Breadcrumb',axis=1).to_csv('./Cat_data.csv')"
   ]
  }
 ],
 "metadata": {
  "kernelspec": {
   "display_name": "Python 3 (ipykernel)",
   "language": "python",
   "name": "python3"
  },
  "language_info": {
   "codemirror_mode": {
    "name": "ipython",
    "version": 3
   },
   "file_extension": ".py",
   "mimetype": "text/x-python",
   "name": "python",
   "nbconvert_exporter": "python",
   "pygments_lexer": "ipython3",
   "version": "3.8.8"
  }
 },
 "nbformat": 4,
 "nbformat_minor": 5
}
